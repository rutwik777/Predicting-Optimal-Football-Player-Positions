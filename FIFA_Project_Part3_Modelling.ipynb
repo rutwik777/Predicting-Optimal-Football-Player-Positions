{
  "cells": [
    {
      "cell_type": "markdown",
      "metadata": {
        "id": "6pZNmRIPfg77"
      },
      "source": [
        "# Ensemble Learning Implementation"
      ]
    },
    {
      "cell_type": "code",
      "execution_count": 1,
      "metadata": {
        "id": "meA2F5y-d44n"
      },
      "outputs": [],
      "source": [
        "import numpy as np\n",
        "import pandas as pd\n",
        "import matplotlib.pyplot as plt\n",
        "import seaborn as sns"
      ]
    },
    {
      "cell_type": "code",
      "execution_count": 2,
      "metadata": {
        "id": "8lU1xtzpfS0h"
      },
      "outputs": [],
      "source": [
        "data = pd.read_csv('fifa2023_cleaned.csv')"
      ]
    },
    {
      "cell_type": "code",
      "execution_count": 3,
      "metadata": {
        "colab": {
          "base_uri": "https://localhost:8080/",
          "height": 273
        },
        "id": "XKZyiWb6fSxh",
        "outputId": "1bfaf896-05ec-4d49-e471-f3ce0041cb54"
      },
      "outputs": [
        {
          "data": {
            "text/html": [
              "<div>\n",
              "<style scoped>\n",
              "    .dataframe tbody tr th:only-of-type {\n",
              "        vertical-align: middle;\n",
              "    }\n",
              "\n",
              "    .dataframe tbody tr th {\n",
              "        vertical-align: top;\n",
              "    }\n",
              "\n",
              "    .dataframe thead th {\n",
              "        text-align: right;\n",
              "    }\n",
              "</style>\n",
              "<table border=\"1\" class=\"dataframe\">\n",
              "  <thead>\n",
              "    <tr style=\"text-align: right;\">\n",
              "      <th></th>\n",
              "      <th>ID</th>\n",
              "      <th>Name</th>\n",
              "      <th>Age</th>\n",
              "      <th>Height</th>\n",
              "      <th>Weight</th>\n",
              "      <th>Overall</th>\n",
              "      <th>Potential</th>\n",
              "      <th>Growth</th>\n",
              "      <th>TotalStats</th>\n",
              "      <th>BaseStats</th>\n",
              "      <th>...</th>\n",
              "      <th>Penalties</th>\n",
              "      <th>Composure</th>\n",
              "      <th>Marking</th>\n",
              "      <th>StandingTackle</th>\n",
              "      <th>SlidingTackle</th>\n",
              "      <th>GKDiving</th>\n",
              "      <th>GKHandling</th>\n",
              "      <th>GKKicking</th>\n",
              "      <th>GKPositioning</th>\n",
              "      <th>GKReflexes</th>\n",
              "    </tr>\n",
              "  </thead>\n",
              "  <tbody>\n",
              "    <tr>\n",
              "      <th>0</th>\n",
              "      <td>158023</td>\n",
              "      <td>L. Messi</td>\n",
              "      <td>35</td>\n",
              "      <td>169</td>\n",
              "      <td>67</td>\n",
              "      <td>91</td>\n",
              "      <td>91</td>\n",
              "      <td>0</td>\n",
              "      <td>2190</td>\n",
              "      <td>452</td>\n",
              "      <td>...</td>\n",
              "      <td>75</td>\n",
              "      <td>96</td>\n",
              "      <td>20</td>\n",
              "      <td>35</td>\n",
              "      <td>24</td>\n",
              "      <td>6</td>\n",
              "      <td>11</td>\n",
              "      <td>15</td>\n",
              "      <td>14</td>\n",
              "      <td>8</td>\n",
              "    </tr>\n",
              "    <tr>\n",
              "      <th>1</th>\n",
              "      <td>165153</td>\n",
              "      <td>K. Benzema</td>\n",
              "      <td>34</td>\n",
              "      <td>185</td>\n",
              "      <td>81</td>\n",
              "      <td>91</td>\n",
              "      <td>91</td>\n",
              "      <td>0</td>\n",
              "      <td>2147</td>\n",
              "      <td>455</td>\n",
              "      <td>...</td>\n",
              "      <td>84</td>\n",
              "      <td>90</td>\n",
              "      <td>43</td>\n",
              "      <td>24</td>\n",
              "      <td>18</td>\n",
              "      <td>13</td>\n",
              "      <td>11</td>\n",
              "      <td>5</td>\n",
              "      <td>5</td>\n",
              "      <td>7</td>\n",
              "    </tr>\n",
              "    <tr>\n",
              "      <th>2</th>\n",
              "      <td>188545</td>\n",
              "      <td>R. Lewandowski</td>\n",
              "      <td>33</td>\n",
              "      <td>185</td>\n",
              "      <td>81</td>\n",
              "      <td>91</td>\n",
              "      <td>91</td>\n",
              "      <td>0</td>\n",
              "      <td>2205</td>\n",
              "      <td>458</td>\n",
              "      <td>...</td>\n",
              "      <td>90</td>\n",
              "      <td>88</td>\n",
              "      <td>35</td>\n",
              "      <td>42</td>\n",
              "      <td>19</td>\n",
              "      <td>15</td>\n",
              "      <td>6</td>\n",
              "      <td>12</td>\n",
              "      <td>8</td>\n",
              "      <td>10</td>\n",
              "    </tr>\n",
              "    <tr>\n",
              "      <th>3</th>\n",
              "      <td>192985</td>\n",
              "      <td>K. De Bruyne</td>\n",
              "      <td>31</td>\n",
              "      <td>181</td>\n",
              "      <td>70</td>\n",
              "      <td>91</td>\n",
              "      <td>91</td>\n",
              "      <td>0</td>\n",
              "      <td>2303</td>\n",
              "      <td>483</td>\n",
              "      <td>...</td>\n",
              "      <td>83</td>\n",
              "      <td>89</td>\n",
              "      <td>68</td>\n",
              "      <td>65</td>\n",
              "      <td>53</td>\n",
              "      <td>15</td>\n",
              "      <td>13</td>\n",
              "      <td>5</td>\n",
              "      <td>10</td>\n",
              "      <td>13</td>\n",
              "    </tr>\n",
              "    <tr>\n",
              "      <th>4</th>\n",
              "      <td>231747</td>\n",
              "      <td>K. Mbappé</td>\n",
              "      <td>23</td>\n",
              "      <td>182</td>\n",
              "      <td>73</td>\n",
              "      <td>91</td>\n",
              "      <td>95</td>\n",
              "      <td>4</td>\n",
              "      <td>2177</td>\n",
              "      <td>470</td>\n",
              "      <td>...</td>\n",
              "      <td>80</td>\n",
              "      <td>88</td>\n",
              "      <td>26</td>\n",
              "      <td>34</td>\n",
              "      <td>32</td>\n",
              "      <td>13</td>\n",
              "      <td>5</td>\n",
              "      <td>7</td>\n",
              "      <td>11</td>\n",
              "      <td>6</td>\n",
              "    </tr>\n",
              "  </tbody>\n",
              "</table>\n",
              "<p>5 rows × 65 columns</p>\n",
              "</div>"
            ],
            "text/plain": [
              "       ID            Name  Age  Height  Weight  Overall  Potential  Growth  \\\n",
              "0  158023        L. Messi   35     169      67       91         91       0   \n",
              "1  165153      K. Benzema   34     185      81       91         91       0   \n",
              "2  188545  R. Lewandowski   33     185      81       91         91       0   \n",
              "3  192985    K. De Bruyne   31     181      70       91         91       0   \n",
              "4  231747       K. Mbappé   23     182      73       91         95       4   \n",
              "\n",
              "   TotalStats  BaseStats  ...  Penalties  Composure  Marking  StandingTackle  \\\n",
              "0        2190        452  ...         75         96       20              35   \n",
              "1        2147        455  ...         84         90       43              24   \n",
              "2        2205        458  ...         90         88       35              42   \n",
              "3        2303        483  ...         83         89       68              65   \n",
              "4        2177        470  ...         80         88       26              34   \n",
              "\n",
              "   SlidingTackle  GKDiving  GKHandling  GKKicking  GKPositioning  GKReflexes  \n",
              "0             24         6          11         15             14           8  \n",
              "1             18        13          11          5              5           7  \n",
              "2             19        15           6         12              8          10  \n",
              "3             53        15          13          5             10          13  \n",
              "4             32        13           5          7             11           6  \n",
              "\n",
              "[5 rows x 65 columns]"
            ]
          },
          "execution_count": 3,
          "metadata": {},
          "output_type": "execute_result"
        }
      ],
      "source": [
        "data.head()"
      ]
    },
    {
      "cell_type": "markdown",
      "metadata": {
        "id": "Hpm94c9NgGop"
      },
      "source": [
        "### Creating our dataset for the modeliing"
      ]
    },
    {
      "cell_type": "markdown",
      "metadata": {
        "id": "fYszZJ-iftfC"
      },
      "source": [
        "So we have around 65 columns and we still have to do some cleaninng, I need to handle ID, Name and Nationalitycolumns"
      ]
    },
    {
      "cell_type": "code",
      "execution_count": 4,
      "metadata": {
        "colab": {
          "base_uri": "https://localhost:8080/"
        },
        "id": "ida1pt-CfSvC",
        "outputId": "766fcf73-6507-44b9-ab77-b38ac4fc702e"
      },
      "outputs": [
        {
          "name": "stdout",
          "output_type": "stream",
          "text": [
            "<class 'pandas.core.frame.DataFrame'>\n",
            "RangeIndex: 18447 entries, 0 to 18446\n",
            "Data columns (total 65 columns):\n",
            " #   Column             Non-Null Count  Dtype  \n",
            "---  ------             --------------  -----  \n",
            " 0   ID                 18447 non-null  int64  \n",
            " 1   Name               18447 non-null  object \n",
            " 2   Age                18447 non-null  int64  \n",
            " 3   Height             18447 non-null  int64  \n",
            " 4   Weight             18447 non-null  int64  \n",
            " 5   Overall            18447 non-null  int64  \n",
            " 6   Potential          18447 non-null  int64  \n",
            " 7   Growth             18447 non-null  int64  \n",
            " 8   TotalStats         18447 non-null  int64  \n",
            " 9   BaseStats          18447 non-null  int64  \n",
            " 10  BestPosition       18447 non-null  int64  \n",
            " 11  Club               18447 non-null  int64  \n",
            " 12  ValueEUR           18447 non-null  int64  \n",
            " 13  WageEUR            18447 non-null  int64  \n",
            " 14  ReleaseClause      18447 non-null  int64  \n",
            " 15  ContractUntil      18447 non-null  float64\n",
            " 16  ClubJoined         18447 non-null  int64  \n",
            " 17  OnLoad             18447 non-null  bool   \n",
            " 18  PreferredFoot      18447 non-null  int64  \n",
            " 19  IntReputation      18447 non-null  int64  \n",
            " 20  WeakFoot           18447 non-null  int64  \n",
            " 21  Nationality        18447 non-null  object \n",
            " 22  SkillMoves         18447 non-null  int64  \n",
            " 23  AttackingWorkRate  18447 non-null  int64  \n",
            " 24  DefensiveWorkRate  18447 non-null  int64  \n",
            " 25  PaceTotal          18447 non-null  int64  \n",
            " 26  ShootingTotal      18447 non-null  int64  \n",
            " 27  PassingTotal       18447 non-null  int64  \n",
            " 28  DribblingTotal     18447 non-null  int64  \n",
            " 29  DefendingTotal     18447 non-null  int64  \n",
            " 30  PhysicalityTotal   18447 non-null  int64  \n",
            " 31  Crossing           18447 non-null  int64  \n",
            " 32  Finishing          18447 non-null  int64  \n",
            " 33  HeadingAccuracy    18447 non-null  int64  \n",
            " 34  ShortPassing       18447 non-null  int64  \n",
            " 35  Volleys            18447 non-null  int64  \n",
            " 36  Dribbling          18447 non-null  int64  \n",
            " 37  Curve              18447 non-null  int64  \n",
            " 38  FKAccuracy         18447 non-null  int64  \n",
            " 39  LongPassing        18447 non-null  int64  \n",
            " 40  BallControl        18447 non-null  int64  \n",
            " 41  Acceleration       18447 non-null  int64  \n",
            " 42  SprintSpeed        18447 non-null  int64  \n",
            " 43  Agility            18447 non-null  int64  \n",
            " 44  Reactions          18447 non-null  int64  \n",
            " 45  Balance            18447 non-null  int64  \n",
            " 46  ShotPower          18447 non-null  int64  \n",
            " 47  Jumping            18447 non-null  int64  \n",
            " 48  Stamina            18447 non-null  int64  \n",
            " 49  Strength           18447 non-null  int64  \n",
            " 50  LongShots          18447 non-null  int64  \n",
            " 51  Aggression         18447 non-null  int64  \n",
            " 52  Interceptions      18447 non-null  int64  \n",
            " 53  Positioning        18447 non-null  int64  \n",
            " 54  Vision             18447 non-null  int64  \n",
            " 55  Penalties          18447 non-null  int64  \n",
            " 56  Composure          18447 non-null  int64  \n",
            " 57  Marking            18447 non-null  int64  \n",
            " 58  StandingTackle     18447 non-null  int64  \n",
            " 59  SlidingTackle      18447 non-null  int64  \n",
            " 60  GKDiving           18447 non-null  int64  \n",
            " 61  GKHandling         18447 non-null  int64  \n",
            " 62  GKKicking          18447 non-null  int64  \n",
            " 63  GKPositioning      18447 non-null  int64  \n",
            " 64  GKReflexes         18447 non-null  int64  \n",
            "dtypes: bool(1), float64(1), int64(61), object(2)\n",
            "memory usage: 9.0+ MB\n"
          ]
        }
      ],
      "source": [
        "data.info()"
      ]
    },
    {
      "cell_type": "code",
      "execution_count": 5,
      "metadata": {
        "colab": {
          "base_uri": "https://localhost:8080/",
          "height": 349
        },
        "id": "Le9U6xdyoR-R",
        "outputId": "1cd69092-9ad8-47c4-cfb4-a8579e86dbc9"
      },
      "outputs": [
        {
          "data": {
            "text/html": [
              "<div>\n",
              "<style scoped>\n",
              "    .dataframe tbody tr th:only-of-type {\n",
              "        vertical-align: middle;\n",
              "    }\n",
              "\n",
              "    .dataframe tbody tr th {\n",
              "        vertical-align: top;\n",
              "    }\n",
              "\n",
              "    .dataframe thead th {\n",
              "        text-align: right;\n",
              "    }\n",
              "</style>\n",
              "<table border=\"1\" class=\"dataframe\">\n",
              "  <thead>\n",
              "    <tr style=\"text-align: right;\">\n",
              "      <th></th>\n",
              "      <th>ID</th>\n",
              "      <th>Age</th>\n",
              "      <th>Height</th>\n",
              "      <th>Weight</th>\n",
              "      <th>Overall</th>\n",
              "      <th>Potential</th>\n",
              "      <th>Growth</th>\n",
              "      <th>TotalStats</th>\n",
              "      <th>BaseStats</th>\n",
              "      <th>BestPosition</th>\n",
              "      <th>...</th>\n",
              "      <th>Penalties</th>\n",
              "      <th>Composure</th>\n",
              "      <th>Marking</th>\n",
              "      <th>StandingTackle</th>\n",
              "      <th>SlidingTackle</th>\n",
              "      <th>GKDiving</th>\n",
              "      <th>GKHandling</th>\n",
              "      <th>GKKicking</th>\n",
              "      <th>GKPositioning</th>\n",
              "      <th>GKReflexes</th>\n",
              "    </tr>\n",
              "  </thead>\n",
              "  <tbody>\n",
              "    <tr>\n",
              "      <th>count</th>\n",
              "      <td>18447.000000</td>\n",
              "      <td>18447.000000</td>\n",
              "      <td>18447.000000</td>\n",
              "      <td>18447.000000</td>\n",
              "      <td>18447.000000</td>\n",
              "      <td>18447.000000</td>\n",
              "      <td>18447.000000</td>\n",
              "      <td>18447.000000</td>\n",
              "      <td>18447.000000</td>\n",
              "      <td>18447.000000</td>\n",
              "      <td>...</td>\n",
              "      <td>18447.000000</td>\n",
              "      <td>18447.000000</td>\n",
              "      <td>18447.000000</td>\n",
              "      <td>18447.000000</td>\n",
              "      <td>18447.000000</td>\n",
              "      <td>18447.000000</td>\n",
              "      <td>18447.000000</td>\n",
              "      <td>18447.000000</td>\n",
              "      <td>18447.000000</td>\n",
              "      <td>18447.000000</td>\n",
              "    </tr>\n",
              "    <tr>\n",
              "      <th>mean</th>\n",
              "      <td>237025.423755</td>\n",
              "      <td>25.229035</td>\n",
              "      <td>181.549574</td>\n",
              "      <td>75.175584</td>\n",
              "      <td>65.835475</td>\n",
              "      <td>71.013119</td>\n",
              "      <td>5.177644</td>\n",
              "      <td>1602.077031</td>\n",
              "      <td>357.862525</td>\n",
              "      <td>3.283135</td>\n",
              "      <td>...</td>\n",
              "      <td>48.001301</td>\n",
              "      <td>58.027538</td>\n",
              "      <td>46.751721</td>\n",
              "      <td>48.412967</td>\n",
              "      <td>46.271914</td>\n",
              "      <td>16.371714</td>\n",
              "      <td>16.126904</td>\n",
              "      <td>16.034748</td>\n",
              "      <td>16.177590</td>\n",
              "      <td>16.439475</td>\n",
              "    </tr>\n",
              "    <tr>\n",
              "      <th>std</th>\n",
              "      <td>26675.914587</td>\n",
              "      <td>4.718162</td>\n",
              "      <td>6.858985</td>\n",
              "      <td>7.012374</td>\n",
              "      <td>6.789479</td>\n",
              "      <td>6.198201</td>\n",
              "      <td>5.378722</td>\n",
              "      <td>273.053154</td>\n",
              "      <td>39.631637</td>\n",
              "      <td>2.737258</td>\n",
              "      <td>...</td>\n",
              "      <td>15.715395</td>\n",
              "      <td>12.031681</td>\n",
              "      <td>20.340569</td>\n",
              "      <td>21.175260</td>\n",
              "      <td>20.688321</td>\n",
              "      <td>17.540857</td>\n",
              "      <td>16.881137</td>\n",
              "      <td>16.645266</td>\n",
              "      <td>17.040353</td>\n",
              "      <td>17.877237</td>\n",
              "    </tr>\n",
              "    <tr>\n",
              "      <th>min</th>\n",
              "      <td>1179.000000</td>\n",
              "      <td>16.000000</td>\n",
              "      <td>155.000000</td>\n",
              "      <td>49.000000</td>\n",
              "      <td>47.000000</td>\n",
              "      <td>48.000000</td>\n",
              "      <td>0.000000</td>\n",
              "      <td>759.000000</td>\n",
              "      <td>224.000000</td>\n",
              "      <td>0.000000</td>\n",
              "      <td>...</td>\n",
              "      <td>6.000000</td>\n",
              "      <td>13.000000</td>\n",
              "      <td>3.000000</td>\n",
              "      <td>6.000000</td>\n",
              "      <td>6.000000</td>\n",
              "      <td>2.000000</td>\n",
              "      <td>2.000000</td>\n",
              "      <td>2.000000</td>\n",
              "      <td>2.000000</td>\n",
              "      <td>2.000000</td>\n",
              "    </tr>\n",
              "    <tr>\n",
              "      <th>25%</th>\n",
              "      <td>221682.000000</td>\n",
              "      <td>21.000000</td>\n",
              "      <td>177.000000</td>\n",
              "      <td>70.000000</td>\n",
              "      <td>62.000000</td>\n",
              "      <td>67.000000</td>\n",
              "      <td>0.000000</td>\n",
              "      <td>1470.000000</td>\n",
              "      <td>331.000000</td>\n",
              "      <td>1.000000</td>\n",
              "      <td>...</td>\n",
              "      <td>39.000000</td>\n",
              "      <td>51.000000</td>\n",
              "      <td>29.000000</td>\n",
              "      <td>28.000000</td>\n",
              "      <td>26.000000</td>\n",
              "      <td>8.000000</td>\n",
              "      <td>8.000000</td>\n",
              "      <td>8.000000</td>\n",
              "      <td>8.000000</td>\n",
              "      <td>8.000000</td>\n",
              "    </tr>\n",
              "    <tr>\n",
              "      <th>50%</th>\n",
              "      <td>241233.000000</td>\n",
              "      <td>25.000000</td>\n",
              "      <td>182.000000</td>\n",
              "      <td>75.000000</td>\n",
              "      <td>66.000000</td>\n",
              "      <td>71.000000</td>\n",
              "      <td>4.000000</td>\n",
              "      <td>1640.000000</td>\n",
              "      <td>358.000000</td>\n",
              "      <td>3.000000</td>\n",
              "      <td>...</td>\n",
              "      <td>49.000000</td>\n",
              "      <td>59.000000</td>\n",
              "      <td>53.000000</td>\n",
              "      <td>56.000000</td>\n",
              "      <td>53.000000</td>\n",
              "      <td>11.000000</td>\n",
              "      <td>11.000000</td>\n",
              "      <td>11.000000</td>\n",
              "      <td>11.000000</td>\n",
              "      <td>11.000000</td>\n",
              "    </tr>\n",
              "    <tr>\n",
              "      <th>75%</th>\n",
              "      <td>259024.500000</td>\n",
              "      <td>29.000000</td>\n",
              "      <td>186.000000</td>\n",
              "      <td>80.000000</td>\n",
              "      <td>70.000000</td>\n",
              "      <td>75.000000</td>\n",
              "      <td>9.000000</td>\n",
              "      <td>1786.000000</td>\n",
              "      <td>385.000000</td>\n",
              "      <td>5.000000</td>\n",
              "      <td>...</td>\n",
              "      <td>60.000000</td>\n",
              "      <td>66.000000</td>\n",
              "      <td>63.000000</td>\n",
              "      <td>65.000000</td>\n",
              "      <td>63.000000</td>\n",
              "      <td>14.000000</td>\n",
              "      <td>14.000000</td>\n",
              "      <td>14.000000</td>\n",
              "      <td>14.000000</td>\n",
              "      <td>14.000000</td>\n",
              "    </tr>\n",
              "    <tr>\n",
              "      <th>max</th>\n",
              "      <td>271817.000000</td>\n",
              "      <td>44.000000</td>\n",
              "      <td>206.000000</td>\n",
              "      <td>105.000000</td>\n",
              "      <td>91.000000</td>\n",
              "      <td>95.000000</td>\n",
              "      <td>26.000000</td>\n",
              "      <td>2312.000000</td>\n",
              "      <td>502.000000</td>\n",
              "      <td>9.000000</td>\n",
              "      <td>...</td>\n",
              "      <td>92.000000</td>\n",
              "      <td>96.000000</td>\n",
              "      <td>92.000000</td>\n",
              "      <td>93.000000</td>\n",
              "      <td>90.000000</td>\n",
              "      <td>90.000000</td>\n",
              "      <td>90.000000</td>\n",
              "      <td>93.000000</td>\n",
              "      <td>91.000000</td>\n",
              "      <td>90.000000</td>\n",
              "    </tr>\n",
              "  </tbody>\n",
              "</table>\n",
              "<p>8 rows × 62 columns</p>\n",
              "</div>"
            ],
            "text/plain": [
              "                  ID           Age        Height        Weight       Overall  \\\n",
              "count   18447.000000  18447.000000  18447.000000  18447.000000  18447.000000   \n",
              "mean   237025.423755     25.229035    181.549574     75.175584     65.835475   \n",
              "std     26675.914587      4.718162      6.858985      7.012374      6.789479   \n",
              "min      1179.000000     16.000000    155.000000     49.000000     47.000000   \n",
              "25%    221682.000000     21.000000    177.000000     70.000000     62.000000   \n",
              "50%    241233.000000     25.000000    182.000000     75.000000     66.000000   \n",
              "75%    259024.500000     29.000000    186.000000     80.000000     70.000000   \n",
              "max    271817.000000     44.000000    206.000000    105.000000     91.000000   \n",
              "\n",
              "          Potential        Growth    TotalStats     BaseStats  BestPosition  \\\n",
              "count  18447.000000  18447.000000  18447.000000  18447.000000  18447.000000   \n",
              "mean      71.013119      5.177644   1602.077031    357.862525      3.283135   \n",
              "std        6.198201      5.378722    273.053154     39.631637      2.737258   \n",
              "min       48.000000      0.000000    759.000000    224.000000      0.000000   \n",
              "25%       67.000000      0.000000   1470.000000    331.000000      1.000000   \n",
              "50%       71.000000      4.000000   1640.000000    358.000000      3.000000   \n",
              "75%       75.000000      9.000000   1786.000000    385.000000      5.000000   \n",
              "max       95.000000     26.000000   2312.000000    502.000000      9.000000   \n",
              "\n",
              "       ...     Penalties     Composure       Marking  StandingTackle  \\\n",
              "count  ...  18447.000000  18447.000000  18447.000000    18447.000000   \n",
              "mean   ...     48.001301     58.027538     46.751721       48.412967   \n",
              "std    ...     15.715395     12.031681     20.340569       21.175260   \n",
              "min    ...      6.000000     13.000000      3.000000        6.000000   \n",
              "25%    ...     39.000000     51.000000     29.000000       28.000000   \n",
              "50%    ...     49.000000     59.000000     53.000000       56.000000   \n",
              "75%    ...     60.000000     66.000000     63.000000       65.000000   \n",
              "max    ...     92.000000     96.000000     92.000000       93.000000   \n",
              "\n",
              "       SlidingTackle      GKDiving    GKHandling     GKKicking  GKPositioning  \\\n",
              "count   18447.000000  18447.000000  18447.000000  18447.000000   18447.000000   \n",
              "mean       46.271914     16.371714     16.126904     16.034748      16.177590   \n",
              "std        20.688321     17.540857     16.881137     16.645266      17.040353   \n",
              "min         6.000000      2.000000      2.000000      2.000000       2.000000   \n",
              "25%        26.000000      8.000000      8.000000      8.000000       8.000000   \n",
              "50%        53.000000     11.000000     11.000000     11.000000      11.000000   \n",
              "75%        63.000000     14.000000     14.000000     14.000000      14.000000   \n",
              "max        90.000000     90.000000     90.000000     93.000000      91.000000   \n",
              "\n",
              "         GKReflexes  \n",
              "count  18447.000000  \n",
              "mean      16.439475  \n",
              "std       17.877237  \n",
              "min        2.000000  \n",
              "25%        8.000000  \n",
              "50%       11.000000  \n",
              "75%       14.000000  \n",
              "max       90.000000  \n",
              "\n",
              "[8 rows x 62 columns]"
            ]
          },
          "execution_count": 5,
          "metadata": {},
          "output_type": "execute_result"
        }
      ],
      "source": [
        "data.describe()"
      ]
    },
    {
      "cell_type": "markdown",
      "metadata": {
        "id": "M5x34F7IgPy5"
      },
      "source": [
        "Split the data by dropping and have X and Y columns"
      ]
    },
    {
      "cell_type": "code",
      "execution_count": 6,
      "metadata": {
        "id": "PIjULjAqf3pe"
      },
      "outputs": [],
      "source": [
        "X = data.drop(['ID', 'Name', 'Nationality'], axis = 1)\n",
        "Y = pd.DataFrame(data['BestPosition'])"
      ]
    },
    {
      "cell_type": "code",
      "execution_count": 7,
      "metadata": {
        "colab": {
          "base_uri": "https://localhost:8080/",
          "height": 255
        },
        "collapsed": true,
        "id": "xFD851Zeglly",
        "outputId": "3cb399f7-809a-4cea-bc23-26bba9b415d3"
      },
      "outputs": [
        {
          "data": {
            "text/html": [
              "<div>\n",
              "<style scoped>\n",
              "    .dataframe tbody tr th:only-of-type {\n",
              "        vertical-align: middle;\n",
              "    }\n",
              "\n",
              "    .dataframe tbody tr th {\n",
              "        vertical-align: top;\n",
              "    }\n",
              "\n",
              "    .dataframe thead th {\n",
              "        text-align: right;\n",
              "    }\n",
              "</style>\n",
              "<table border=\"1\" class=\"dataframe\">\n",
              "  <thead>\n",
              "    <tr style=\"text-align: right;\">\n",
              "      <th></th>\n",
              "      <th>Age</th>\n",
              "      <th>Height</th>\n",
              "      <th>Weight</th>\n",
              "      <th>Overall</th>\n",
              "      <th>Potential</th>\n",
              "      <th>Growth</th>\n",
              "      <th>TotalStats</th>\n",
              "      <th>BaseStats</th>\n",
              "      <th>BestPosition</th>\n",
              "      <th>Club</th>\n",
              "      <th>...</th>\n",
              "      <th>Penalties</th>\n",
              "      <th>Composure</th>\n",
              "      <th>Marking</th>\n",
              "      <th>StandingTackle</th>\n",
              "      <th>SlidingTackle</th>\n",
              "      <th>GKDiving</th>\n",
              "      <th>GKHandling</th>\n",
              "      <th>GKKicking</th>\n",
              "      <th>GKPositioning</th>\n",
              "      <th>GKReflexes</th>\n",
              "    </tr>\n",
              "  </thead>\n",
              "  <tbody>\n",
              "    <tr>\n",
              "      <th>0</th>\n",
              "      <td>35</td>\n",
              "      <td>169</td>\n",
              "      <td>67</td>\n",
              "      <td>91</td>\n",
              "      <td>91</td>\n",
              "      <td>0</td>\n",
              "      <td>2190</td>\n",
              "      <td>452</td>\n",
              "      <td>1</td>\n",
              "      <td>453</td>\n",
              "      <td>...</td>\n",
              "      <td>75</td>\n",
              "      <td>96</td>\n",
              "      <td>20</td>\n",
              "      <td>35</td>\n",
              "      <td>24</td>\n",
              "      <td>6</td>\n",
              "      <td>11</td>\n",
              "      <td>15</td>\n",
              "      <td>14</td>\n",
              "      <td>8</td>\n",
              "    </tr>\n",
              "    <tr>\n",
              "      <th>1</th>\n",
              "      <td>34</td>\n",
              "      <td>185</td>\n",
              "      <td>81</td>\n",
              "      <td>91</td>\n",
              "      <td>91</td>\n",
              "      <td>0</td>\n",
              "      <td>2147</td>\n",
              "      <td>455</td>\n",
              "      <td>0</td>\n",
              "      <td>494</td>\n",
              "      <td>...</td>\n",
              "      <td>84</td>\n",
              "      <td>90</td>\n",
              "      <td>43</td>\n",
              "      <td>24</td>\n",
              "      <td>18</td>\n",
              "      <td>13</td>\n",
              "      <td>11</td>\n",
              "      <td>5</td>\n",
              "      <td>5</td>\n",
              "      <td>7</td>\n",
              "    </tr>\n",
              "    <tr>\n",
              "      <th>2</th>\n",
              "      <td>33</td>\n",
              "      <td>185</td>\n",
              "      <td>81</td>\n",
              "      <td>91</td>\n",
              "      <td>91</td>\n",
              "      <td>0</td>\n",
              "      <td>2205</td>\n",
              "      <td>458</td>\n",
              "      <td>0</td>\n",
              "      <td>230</td>\n",
              "      <td>...</td>\n",
              "      <td>90</td>\n",
              "      <td>88</td>\n",
              "      <td>35</td>\n",
              "      <td>42</td>\n",
              "      <td>19</td>\n",
              "      <td>15</td>\n",
              "      <td>6</td>\n",
              "      <td>12</td>\n",
              "      <td>8</td>\n",
              "      <td>10</td>\n",
              "    </tr>\n",
              "    <tr>\n",
              "      <th>3</th>\n",
              "      <td>31</td>\n",
              "      <td>181</td>\n",
              "      <td>70</td>\n",
              "      <td>91</td>\n",
              "      <td>91</td>\n",
              "      <td>0</td>\n",
              "      <td>2303</td>\n",
              "      <td>483</td>\n",
              "      <td>1</td>\n",
              "      <td>399</td>\n",
              "      <td>...</td>\n",
              "      <td>83</td>\n",
              "      <td>89</td>\n",
              "      <td>68</td>\n",
              "      <td>65</td>\n",
              "      <td>53</td>\n",
              "      <td>15</td>\n",
              "      <td>13</td>\n",
              "      <td>5</td>\n",
              "      <td>10</td>\n",
              "      <td>13</td>\n",
              "    </tr>\n",
              "    <tr>\n",
              "      <th>4</th>\n",
              "      <td>23</td>\n",
              "      <td>182</td>\n",
              "      <td>73</td>\n",
              "      <td>91</td>\n",
              "      <td>95</td>\n",
              "      <td>4</td>\n",
              "      <td>2177</td>\n",
              "      <td>470</td>\n",
              "      <td>0</td>\n",
              "      <td>453</td>\n",
              "      <td>...</td>\n",
              "      <td>80</td>\n",
              "      <td>88</td>\n",
              "      <td>26</td>\n",
              "      <td>34</td>\n",
              "      <td>32</td>\n",
              "      <td>13</td>\n",
              "      <td>5</td>\n",
              "      <td>7</td>\n",
              "      <td>11</td>\n",
              "      <td>6</td>\n",
              "    </tr>\n",
              "  </tbody>\n",
              "</table>\n",
              "<p>5 rows × 62 columns</p>\n",
              "</div>"
            ],
            "text/plain": [
              "   Age  Height  Weight  Overall  Potential  Growth  TotalStats  BaseStats  \\\n",
              "0   35     169      67       91         91       0        2190        452   \n",
              "1   34     185      81       91         91       0        2147        455   \n",
              "2   33     185      81       91         91       0        2205        458   \n",
              "3   31     181      70       91         91       0        2303        483   \n",
              "4   23     182      73       91         95       4        2177        470   \n",
              "\n",
              "   BestPosition  Club  ...  Penalties  Composure  Marking  StandingTackle  \\\n",
              "0             1   453  ...         75         96       20              35   \n",
              "1             0   494  ...         84         90       43              24   \n",
              "2             0   230  ...         90         88       35              42   \n",
              "3             1   399  ...         83         89       68              65   \n",
              "4             0   453  ...         80         88       26              34   \n",
              "\n",
              "   SlidingTackle  GKDiving  GKHandling  GKKicking  GKPositioning  GKReflexes  \n",
              "0             24         6          11         15             14           8  \n",
              "1             18        13          11          5              5           7  \n",
              "2             19        15           6         12              8          10  \n",
              "3             53        15          13          5             10          13  \n",
              "4             32        13           5          7             11           6  \n",
              "\n",
              "[5 rows x 62 columns]"
            ]
          },
          "execution_count": 7,
          "metadata": {},
          "output_type": "execute_result"
        }
      ],
      "source": [
        "X.head()"
      ]
    },
    {
      "cell_type": "code",
      "execution_count": 8,
      "metadata": {
        "colab": {
          "base_uri": "https://localhost:8080/",
          "height": 206
        },
        "id": "HJPMPR8bgn0y",
        "outputId": "1d05743d-014c-4540-f6db-7aa410a12fef"
      },
      "outputs": [
        {
          "data": {
            "text/html": [
              "<div>\n",
              "<style scoped>\n",
              "    .dataframe tbody tr th:only-of-type {\n",
              "        vertical-align: middle;\n",
              "    }\n",
              "\n",
              "    .dataframe tbody tr th {\n",
              "        vertical-align: top;\n",
              "    }\n",
              "\n",
              "    .dataframe thead th {\n",
              "        text-align: right;\n",
              "    }\n",
              "</style>\n",
              "<table border=\"1\" class=\"dataframe\">\n",
              "  <thead>\n",
              "    <tr style=\"text-align: right;\">\n",
              "      <th></th>\n",
              "      <th>BestPosition</th>\n",
              "    </tr>\n",
              "  </thead>\n",
              "  <tbody>\n",
              "    <tr>\n",
              "      <th>0</th>\n",
              "      <td>1</td>\n",
              "    </tr>\n",
              "    <tr>\n",
              "      <th>1</th>\n",
              "      <td>0</td>\n",
              "    </tr>\n",
              "    <tr>\n",
              "      <th>2</th>\n",
              "      <td>0</td>\n",
              "    </tr>\n",
              "    <tr>\n",
              "      <th>3</th>\n",
              "      <td>1</td>\n",
              "    </tr>\n",
              "    <tr>\n",
              "      <th>4</th>\n",
              "      <td>0</td>\n",
              "    </tr>\n",
              "  </tbody>\n",
              "</table>\n",
              "</div>"
            ],
            "text/plain": [
              "   BestPosition\n",
              "0             1\n",
              "1             0\n",
              "2             0\n",
              "3             1\n",
              "4             0"
            ]
          },
          "execution_count": 8,
          "metadata": {},
          "output_type": "execute_result"
        }
      ],
      "source": [
        "Y.head()"
      ]
    },
    {
      "cell_type": "markdown",
      "metadata": {
        "id": "5HwhFlfKgsWE"
      },
      "source": [
        "#### Train Test Split"
      ]
    },
    {
      "cell_type": "code",
      "execution_count": 9,
      "metadata": {
        "id": "iJm6sSKkgqZ5"
      },
      "outputs": [],
      "source": [
        "from sklearn.model_selection import train_test_split"
      ]
    },
    {
      "cell_type": "code",
      "execution_count": 10,
      "metadata": {
        "id": "i4h-UiVhg7CF"
      },
      "outputs": [],
      "source": [
        "X_train, X_test, y_train, y_test = train_test_split(X, Y, test_size=0.2, random_state = 101)"
      ]
    },
    {
      "cell_type": "markdown",
      "metadata": {
        "id": "j5ki7Ti0hesy"
      },
      "source": [
        "#### Lets see our dataset and distribution of our BestPosition Classes"
      ]
    },
    {
      "cell_type": "code",
      "execution_count": 11,
      "metadata": {
        "colab": {
          "base_uri": "https://localhost:8080/",
          "height": 469
        },
        "id": "1vyKd1sVheXL",
        "outputId": "87f8a6a9-b86b-4801-a297-08555b62738d"
      },
      "outputs": [
        {
          "data": {
            "text/plain": [
              "<AxesSubplot:xlabel='BestPosition', ylabel='count'>"
            ]
          },
          "execution_count": 11,
          "metadata": {},
          "output_type": "execute_result"
        },
        {
          "data": {
            "image/png": "[encoded data removed]",
            "text/plain": [
              "<Figure size 432x288 with 1 Axes>"
            ]
          },
          "metadata": {
            "needs_background": "light"
          },
          "output_type": "display_data"
        }
      ],
      "source": [
        "sns.countplot(x = 'BestPosition', data=data, hue='BestPosition', palette = 'husl')"
      ]
    },
    {
      "cell_type": "code",
      "execution_count": 12,
      "metadata": {
        "id": "3m9765yLhs_r"
      },
      "outputs": [],
      "source": [
        "#position_map = {'CF': 0, 'CM': 1, 'RW': 2, 'GK': 3, 'CB': 4, 'LW': 5, 'LM': 6, 'LB': 7, 'RM':  8, 'RB': 9}"
      ]
    },
    {
      "cell_type": "markdown",
      "metadata": {
        "id": "5cYNclXOiZcE"
      },
      "source": [
        "#### We observe an imbalanced dataset, which we can fix\n",
        "Why fix? -> To prevent model becoming biased towards one/more particular class.\n",
        "\n",
        "We can fix by artificially imputing data.\n",
        "\n",
        "But the way we do this is my 2 ways.\n",
        "The ways are\n",
        "1. Undersampling -> Done w.r.t lowest or some threshold value, this will reduce data.\n",
        "2. Oversampling -> Done w.r.t lowest or some value, this will increase dataset but but may introduce some variance in data.\n",
        "3. Combination of both.\n",
        "\n",
        "There exist several methods.\n",
        "1. KNN\n",
        "2. SVM\n",
        "3. SMOTE\n",
        "4. Kmeans"
      ]
    },
    {
      "cell_type": "code",
      "execution_count": 13,
      "metadata": {
        "id": "x_Mt9-D-ifJS"
      },
      "outputs": [],
      "source": [
        "from imblearn.over_sampling import RandomOverSampler"
      ]
    },
    {
      "cell_type": "markdown",
      "metadata": {
        "id": "HCBIpIcDmnty"
      },
      "source": [
        "Setting random sampler to Auto to oversample all classes"
      ]
    },
    {
      "cell_type": "code",
      "execution_count": 14,
      "metadata": {
        "id": "VpFNV-bzloEk"
      },
      "outputs": [],
      "source": [
        "oversample = RandomOverSampler(sampling_strategy= 'auto')"
      ]
    },
    {
      "cell_type": "code",
      "execution_count": 15,
      "metadata": {
        "id": "ynzuIQGml6u9"
      },
      "outputs": [],
      "source": [
        "X_train_re, y_train_re = oversample.fit_resample(X_train,y_train)"
      ]
    },
    {
      "cell_type": "code",
      "execution_count": 16,
      "metadata": {
        "colab": {
          "base_uri": "https://localhost:8080/",
          "height": 555
        },
        "id": "ccOAE7BImTwo",
        "outputId": "c1affcb9-651b-40f8-c276-07ee76f3f5c7"
      },
      "outputs": [
        {
          "data": {
            "text/plain": [
              "<AxesSubplot:xlabel='BestPosition', ylabel='count'>"
            ]
          },
          "execution_count": 16,
          "metadata": {},
          "output_type": "execute_result"
        },
        {
          "data": {
            "image/png": "[encoded data removed]",
            "text/plain": [
              "<Figure size 432x288 with 1 Axes>"
            ]
          },
          "metadata": {
            "needs_background": "light"
          },
          "output_type": "display_data"
        }
      ],
      "source": [
        "sns.countplot(x='BestPosition', data =y_train_re, palette = 'husl')"
      ]
    },
    {
      "cell_type": "markdown",
      "metadata": {
        "id": "BA5bgx67mw91"
      },
      "source": [
        "Now lest set the sampling_strategy to minority and lets do this iteratively"
      ]
    },
    {
      "cell_type": "code",
      "execution_count": 17,
      "metadata": {
        "id": "hWOoP_BznIhO"
      },
      "outputs": [],
      "source": [
        "oversample_rei = RandomOverSampler(sampling_strategy= 'minority')"
      ]
    },
    {
      "cell_type": "code",
      "execution_count": 18,
      "metadata": {
        "id": "FYRzaJgsmaNk"
      },
      "outputs": [],
      "source": [
        "X_train_rei, y_train_rei = oversample_rei.fit_resample(X_train,y_train)"
      ]
    },
    {
      "cell_type": "code",
      "execution_count": 19,
      "metadata": {
        "colab": {
          "base_uri": "https://localhost:8080/",
          "height": 555
        },
        "id": "cAaCpWVznSOb",
        "outputId": "0bf4b551-e5c4-4d73-ae12-92d8f49af839"
      },
      "outputs": [
        {
          "data": {
            "text/plain": [
              "<AxesSubplot:xlabel='BestPosition', ylabel='count'>"
            ]
          },
          "execution_count": 19,
          "metadata": {},
          "output_type": "execute_result"
        },
        {
          "data": {
            "image/png": "[encoded data removed]",
            "text/plain": [
              "<Figure size 432x288 with 1 Axes>"
            ]
          },
          "metadata": {
            "needs_background": "light"
          },
          "output_type": "display_data"
        }
      ],
      "source": [
        "sns.countplot(x='BestPosition', data =y_train_rei, palette = 'husl')"
      ]
    },
    {
      "cell_type": "code",
      "execution_count": 20,
      "metadata": {
        "id": "2m5l2ctxna9K"
      },
      "outputs": [],
      "source": [
        "X_train_rei, y_train_rei = oversample_rei.fit_resample(X_train_rei, y_train_rei)"
      ]
    },
    {
      "cell_type": "code",
      "execution_count": 21,
      "metadata": {
        "colab": {
          "base_uri": "https://localhost:8080/",
          "height": 555
        },
        "id": "ibBZDUHmnge8",
        "outputId": "e6e4dcae-03b0-4d47-9604-382c3a77229e"
      },
      "outputs": [
        {
          "data": {
            "text/plain": [
              "<AxesSubplot:xlabel='BestPosition', ylabel='count'>"
            ]
          },
          "execution_count": 21,
          "metadata": {},
          "output_type": "execute_result"
        },
        {
          "data": {
            "image/png": "[encoded data removed]",
            "text/plain": [
              "<Figure size 432x288 with 1 Axes>"
            ]
          },
          "metadata": {
            "needs_background": "light"
          },
          "output_type": "display_data"
        }
      ],
      "source": [
        "sns.countplot(x='BestPosition', data =y_train_rei, palette = 'husl')"
      ]
    },
    {
      "cell_type": "code",
      "execution_count": 22,
      "metadata": {
        "colab": {
          "base_uri": "https://localhost:8080/",
          "height": 555
        },
        "id": "C83HzLijng6D",
        "outputId": "55841b66-25d9-4fce-dc1e-49fd35e6ec76"
      },
      "outputs": [
        {
          "data": {
            "text/plain": [
              "<AxesSubplot:xlabel='BestPosition', ylabel='count'>"
            ]
          },
          "execution_count": 22,
          "metadata": {},
          "output_type": "execute_result"
        },
        {
          "data": {
            "image/png": "[encoded data removed]",
            "text/plain": [
              "<Figure size 432x288 with 1 Axes>"
            ]
          },
          "metadata": {
            "needs_background": "light"
          },
          "output_type": "display_data"
        }
      ],
      "source": [
        "X_train_rei, y_train_rei = oversample_rei.fit_resample(X_train_rei, y_train_rei)\n",
        "sns.countplot(x='BestPosition', data =y_train_rei, palette = 'husl')"
      ]
    },
    {
      "cell_type": "markdown",
      "metadata": {
        "id": "FScUDWjInx2y"
      },
      "source": [
        "Now taking and further processing the Training data ***X_train_re, X_test_re, y_train_re, y_test_re***"
      ]
    },
    {
      "cell_type": "markdown",
      "metadata": {
        "id": "Hpu38PKColMK"
      },
      "source": [
        "### Feature Scaling\n",
        "\n",
        "This will help me transform data/normaize it so fetures are given equal importance and weights are equally distributed.\n",
        "\n",
        "Cuurent sscale -> 0 - 100, I will convert it between 0 - 1"
      ]
    },
    {
      "cell_type": "code",
      "execution_count": 23,
      "metadata": {
        "id": "1tZ55HGTn34t"
      },
      "outputs": [],
      "source": [
        "from sklearn.preprocessing import MinMaxScaler"
      ]
    },
    {
      "cell_type": "code",
      "execution_count": 24,
      "metadata": {
        "id": "3JAsvX8kpZ7k"
      },
      "outputs": [],
      "source": [
        "scaler = MinMaxScaler()\n",
        "\n",
        "X_train_final = scaler.fit_transform(X_train_re)\n",
        "X_test_final = scaler.fit_transform(X_test)"
      ]
    },
    {
      "cell_type": "code",
      "execution_count": 25,
      "metadata": {
        "colab": {
          "base_uri": "https://localhost:8080/"
        },
        "id": "25CYf6CEp-tc",
        "outputId": "98d64e4d-b5db-4770-fd26-581b6015bc6a"
      },
      "outputs": [
        {
          "data": {
            "text/plain": [
              "((38550, 62), (38550, 1))"
            ]
          },
          "execution_count": 25,
          "metadata": {},
          "output_type": "execute_result"
        }
      ],
      "source": [
        "X_train_final.shape, y_train_re.shape"
      ]
    },
    {
      "cell_type": "code",
      "execution_count": 26,
      "metadata": {
        "id": "0gHTgTVBvfy0"
      },
      "outputs": [],
      "source": [
        "y_train_final = y_train_re"
      ]
    },
    {
      "cell_type": "markdown",
      "metadata": {
        "id": "qIRprBEUqTor"
      },
      "source": [
        "## Statistical Modelling or Model Training"
      ]
    },
    {
      "cell_type": "markdown",
      "metadata": {
        "id": "Eb4YaDxmuEV8"
      },
      "source": [
        "Traget colum or variable is a Muliclass.\n",
        "\n",
        "We will be doing MultiClass Classification.\n",
        "\n",
        "We will use all sorts of algorithms that we have learnt till for classification i.e., Decision Trees, SVM, Logistic Regression\n",
        "\n",
        "Random Forest(Bagging)"
      ]
    },
    {
      "cell_type": "markdown",
      "metadata": {
        "id": "oJTukQONvMCS"
      },
      "source": [
        "Metrics for evaluation"
      ]
    },
    {
      "cell_type": "code",
      "execution_count": 27,
      "metadata": {
        "id": "WRrvETxcvHgT"
      },
      "outputs": [],
      "source": [
        "from sklearn.metrics import classification_report, confusion_matrix"
      ]
    },
    {
      "cell_type": "markdown",
      "metadata": {
        "id": "rtw44WU9u7Nu"
      },
      "source": [
        "#### Logistic Regression"
      ]
    },
    {
      "cell_type": "code",
      "execution_count": 28,
      "metadata": {
        "id": "mKbb8-pMqCd5"
      },
      "outputs": [],
      "source": [
        "from sklearn.linear_model import LogisticRegression"
      ]
    },
    {
      "cell_type": "code",
      "execution_count": 29,
      "metadata": {
        "id": "v-w-iY0AvP56"
      },
      "outputs": [],
      "source": [
        "lr = LogisticRegression()"
      ]
    },
    {
      "cell_type": "code",
      "execution_count": 30,
      "metadata": {
        "colab": {
          "base_uri": "https://localhost:8080/",
          "height": 268
        },
        "id": "bmFbrH5PvcrE",
        "outputId": "58bc4481-b7bb-4250-cc19-1d190cb3dd72"
      },
      "outputs": [
        {
          "name": "stderr",
          "output_type": "stream",
          "text": [
            "c:\\Users\\rutwi\\anaconda3\\lib\\site-packages\\sklearn\\utils\\validation.py:1143: DataConversionWarning: A column-vector y was passed when a 1d array was expected. Please change the shape of y to (n_samples, ), for example using ravel().\n",
            "  y = column_or_1d(y, warn=True)\n",
            "c:\\Users\\rutwi\\anaconda3\\lib\\site-packages\\sklearn\\linear_model\\_logistic.py:458: ConvergenceWarning: lbfgs failed to converge (status=1):\n",
            "STOP: TOTAL NO. of ITERATIONS REACHED LIMIT.\n",
            "\n",
            "Increase the number of iterations (max_iter) or scale the data as shown in:\n",
            "    https://scikit-learn.org/stable/modules/preprocessing.html\n",
            "Please also refer to the documentation for alternative solver options:\n",
            "    https://scikit-learn.org/stable/modules/linear_model.html#logistic-regression\n",
            "  n_iter_i = _check_optimize_result(\n"
          ]
        },
        {
          "data": {
            "text/html": [
              "<style>#sk-container-id-1 {color: black;background-color: white;}#sk-container-id-1 pre{padding: 0;}#sk-container-id-1 div.sk-toggleable {background-color: white;}#sk-container-id-1 label.sk-toggleable__label {cursor: pointer;display: block;width: 100%;margin-bottom: 0;padding: 0.3em;box-sizing: border-box;text-align: center;}#sk-container-id-1 label.sk-toggleable__label-arrow:before {content: \"▸\";float: left;margin-right: 0.25em;color: #696969;}#sk-container-id-1 label.sk-toggleable__label-arrow:hover:before {color: black;}#sk-container-id-1 div.sk-estimator:hover label.sk-toggleable__label-arrow:before {color: black;}#sk-container-id-1 div.sk-toggleable__content {max-height: 0;max-width: 0;overflow: hidden;text-align: left;background-color: #f0f8ff;}#sk-container-id-1 div.sk-toggleable__content pre {margin: 0.2em;color: black;border-radius: 0.25em;background-color: #f0f8ff;}#sk-container-id-1 input.sk-toggleable__control:checked~div.sk-toggleable__content {max-height: 200px;max-width: 100%;overflow: auto;}#sk-container-id-1 input.sk-toggleable__control:checked~label.sk-toggleable__label-arrow:before {content: \"▾\";}#sk-container-id-1 div.sk-estimator input.sk-toggleable__control:checked~label.sk-toggleable__label {background-color: #d4ebff;}#sk-container-id-1 div.sk-label input.sk-toggleable__control:checked~label.sk-toggleable__label {background-color: #d4ebff;}#sk-container-id-1 input.sk-hidden--visually {border: 0;clip: rect(1px 1px 1px 1px);clip: rect(1px, 1px, 1px, 1px);height: 1px;margin: -1px;overflow: hidden;padding: 0;position: absolute;width: 1px;}#sk-container-id-1 div.sk-estimator {font-family: monospace;background-color: #f0f8ff;border: 1px dotted black;border-radius: 0.25em;box-sizing: border-box;margin-bottom: 0.5em;}#sk-container-id-1 div.sk-estimator:hover {background-color: #d4ebff;}#sk-container-id-1 div.sk-parallel-item::after {content: \"\";width: 100%;border-bottom: 1px solid gray;flex-grow: 1;}#sk-container-id-1 div.sk-label:hover label.sk-toggleable__label {background-color: #d4ebff;}#sk-container-id-1 div.sk-serial::before {content: \"\";position: absolute;border-left: 1px solid gray;box-sizing: border-box;top: 0;bottom: 0;left: 50%;z-index: 0;}#sk-container-id-1 div.sk-serial {display: flex;flex-direction: column;align-items: center;background-color: white;padding-right: 0.2em;padding-left: 0.2em;position: relative;}#sk-container-id-1 div.sk-item {position: relative;z-index: 1;}#sk-container-id-1 div.sk-parallel {display: flex;align-items: stretch;justify-content: center;background-color: white;position: relative;}#sk-container-id-1 div.sk-item::before, #sk-container-id-1 div.sk-parallel-item::before {content: \"\";position: absolute;border-left: 1px solid gray;box-sizing: border-box;top: 0;bottom: 0;left: 50%;z-index: -1;}#sk-container-id-1 div.sk-parallel-item {display: flex;flex-direction: column;z-index: 1;position: relative;background-color: white;}#sk-container-id-1 div.sk-parallel-item:first-child::after {align-self: flex-end;width: 50%;}#sk-container-id-1 div.sk-parallel-item:last-child::after {align-self: flex-start;width: 50%;}#sk-container-id-1 div.sk-parallel-item:only-child::after {width: 0;}#sk-container-id-1 div.sk-dashed-wrapped {border: 1px dashed gray;margin: 0 0.4em 0.5em 0.4em;box-sizing: border-box;padding-bottom: 0.4em;background-color: white;}#sk-container-id-1 div.sk-label label {font-family: monospace;font-weight: bold;display: inline-block;line-height: 1.2em;}#sk-container-id-1 div.sk-label-container {text-align: center;}#sk-container-id-1 div.sk-container {/* jupyter's `normalize.less` sets `[hidden] { display: none; }` but bootstrap.min.css set `[hidden] { display: none !important; }` so we also need the `!important` here to be able to override the default hidden behavior on the sphinx rendered scikit-learn.org. See: https://github.com/scikit-learn/scikit-learn/issues/21755 */display: inline-block !important;position: relative;}#sk-container-id-1 div.sk-text-repr-fallback {display: none;}</style><div id=\"sk-container-id-1\" class=\"sk-top-container\"><div class=\"sk-text-repr-fallback\"><pre>LogisticRegression()</pre><b>In a Jupyter environment, please rerun this cell to show the HTML representation or trust the notebook. <br />On GitHub, the HTML representation is unable to render, please try loading this page with nbviewer.org.</b></div><div class=\"sk-container\" hidden><div class=\"sk-item\"><div class=\"sk-estimator sk-toggleable\"><input class=\"sk-toggleable__control sk-hidden--visually\" id=\"sk-estimator-id-1\" type=\"checkbox\" checked><label for=\"sk-estimator-id-1\" class=\"sk-toggleable__label sk-toggleable__label-arrow\">LogisticRegression</label><div class=\"sk-toggleable__content\"><pre>LogisticRegression()</pre></div></div></div></div></div>"
            ],
            "text/plain": [
              "LogisticRegression()"
            ]
          },
          "execution_count": 30,
          "metadata": {},
          "output_type": "execute_result"
        }
      ],
      "source": [
        "lr.fit(X_train_final, y_train_final)"
      ]
    },
    {
      "cell_type": "code",
      "execution_count": 31,
      "metadata": {
        "id": "RgrllvFkv40k"
      },
      "outputs": [],
      "source": [
        "y_preds_lr = lr.predict(X_test_final)"
      ]
    },
    {
      "cell_type": "code",
      "execution_count": 32,
      "metadata": {
        "colab": {
          "base_uri": "https://localhost:8080/"
        },
        "id": "M1NBeMTAv4x9",
        "outputId": "4814314a-06bf-4efa-f1f6-67206a6da5c9"
      },
      "outputs": [
        {
          "data": {
            "text/plain": [
              "array([[505,   5,   2,   0,   0,   0,   0,   0,   0,   0],\n",
              "       [ 31, 881,  35,   0,   0,   0,   0,   0,   0,   0],\n",
              "       [  5,  13, 110,   0,   0,   4,   0,   0,   0,   0],\n",
              "       [  0,   0,   0, 406,   0,   0,   0,   0,   0,   0],\n",
              "       [  0,   0,   1,   0, 708,  25,   0,   0,   0,   0],\n",
              "       [  0,   0,   0,   0,   2, 116,  11,   3,   0,   0],\n",
              "       [  0,   0,   0,   0,   0,  28, 127,   2,   0,   0],\n",
              "       [  0,   0,   0,   0,   1,   0,   1, 172,   0,  16],\n",
              "       [  0,   0,   0,   0,   0,   0,   0,   1, 286,  15],\n",
              "       [  0,   0,   0,   0,   0,   0,   0,   1,   5, 172]], dtype=int64)"
            ]
          },
          "execution_count": 32,
          "metadata": {},
          "output_type": "execute_result"
        }
      ],
      "source": [
        "confusion_matrix(y_test, y_preds_lr)"
      ]
    },
    {
      "cell_type": "code",
      "execution_count": 33,
      "metadata": {
        "colab": {
          "base_uri": "https://localhost:8080/"
        },
        "id": "7MYP_uYFv4u_",
        "outputId": "e98c7c3a-3350-4f99-bbb9-adc0fc805e8f"
      },
      "outputs": [
        {
          "name": "stdout",
          "output_type": "stream",
          "text": [
            "              precision    recall  f1-score   support\n",
            "\n",
            "           0       0.93      0.99      0.96       512\n",
            "           1       0.98      0.93      0.95       947\n",
            "           2       0.74      0.83      0.79       132\n",
            "           3       1.00      1.00      1.00       406\n",
            "           4       1.00      0.96      0.98       734\n",
            "           5       0.67      0.88      0.76       132\n",
            "           6       0.91      0.81      0.86       157\n",
            "           7       0.96      0.91      0.93       190\n",
            "           8       0.98      0.95      0.96       302\n",
            "           9       0.85      0.97      0.90       178\n",
            "\n",
            "    accuracy                           0.94      3690\n",
            "   macro avg       0.90      0.92      0.91      3690\n",
            "weighted avg       0.95      0.94      0.95      3690\n",
            "\n"
          ]
        }
      ],
      "source": [
        "print(classification_report(y_test, y_preds_lr))"
      ]
    },
    {
      "cell_type": "markdown",
      "metadata": {
        "id": "oyaB7oLlxQlk"
      },
      "source": [
        "#### Without Handling imbalanced dataset and without feature scaling techniques"
      ]
    },
    {
      "cell_type": "code",
      "execution_count": 34,
      "metadata": {
        "id": "7Msi1lrVwdF2"
      },
      "outputs": [],
      "source": [
        "lr_1 = LogisticRegression()"
      ]
    },
    {
      "cell_type": "code",
      "execution_count": 35,
      "metadata": {
        "colab": {
          "base_uri": "https://localhost:8080/",
          "height": 268
        },
        "id": "dWjzrYW-xZqX",
        "outputId": "16d7ab03-a8e6-43be-ce62-fa2e4eb4562c"
      },
      "outputs": [
        {
          "name": "stderr",
          "output_type": "stream",
          "text": [
            "c:\\Users\\rutwi\\anaconda3\\lib\\site-packages\\sklearn\\utils\\validation.py:1143: DataConversionWarning: A column-vector y was passed when a 1d array was expected. Please change the shape of y to (n_samples, ), for example using ravel().\n",
            "  y = column_or_1d(y, warn=True)\n",
            "c:\\Users\\rutwi\\anaconda3\\lib\\site-packages\\sklearn\\linear_model\\_logistic.py:458: ConvergenceWarning: lbfgs failed to converge (status=1):\n",
            "STOP: TOTAL NO. of ITERATIONS REACHED LIMIT.\n",
            "\n",
            "Increase the number of iterations (max_iter) or scale the data as shown in:\n",
            "    https://scikit-learn.org/stable/modules/preprocessing.html\n",
            "Please also refer to the documentation for alternative solver options:\n",
            "    https://scikit-learn.org/stable/modules/linear_model.html#logistic-regression\n",
            "  n_iter_i = _check_optimize_result(\n"
          ]
        },
        {
          "data": {
            "text/html": [
              "<style>#sk-container-id-2 {color: black;background-color: white;}#sk-container-id-2 pre{padding: 0;}#sk-container-id-2 div.sk-toggleable {background-color: white;}#sk-container-id-2 label.sk-toggleable__label {cursor: pointer;display: block;width: 100%;margin-bottom: 0;padding: 0.3em;box-sizing: border-box;text-align: center;}#sk-container-id-2 label.sk-toggleable__label-arrow:before {content: \"▸\";float: left;margin-right: 0.25em;color: #696969;}#sk-container-id-2 label.sk-toggleable__label-arrow:hover:before {color: black;}#sk-container-id-2 div.sk-estimator:hover label.sk-toggleable__label-arrow:before {color: black;}#sk-container-id-2 div.sk-toggleable__content {max-height: 0;max-width: 0;overflow: hidden;text-align: left;background-color: #f0f8ff;}#sk-container-id-2 div.sk-toggleable__content pre {margin: 0.2em;color: black;border-radius: 0.25em;background-color: #f0f8ff;}#sk-container-id-2 input.sk-toggleable__control:checked~div.sk-toggleable__content {max-height: 200px;max-width: 100%;overflow: auto;}#sk-container-id-2 input.sk-toggleable__control:checked~label.sk-toggleable__label-arrow:before {content: \"▾\";}#sk-container-id-2 div.sk-estimator input.sk-toggleable__control:checked~label.sk-toggleable__label {background-color: #d4ebff;}#sk-container-id-2 div.sk-label input.sk-toggleable__control:checked~label.sk-toggleable__label {background-color: #d4ebff;}#sk-container-id-2 input.sk-hidden--visually {border: 0;clip: rect(1px 1px 1px 1px);clip: rect(1px, 1px, 1px, 1px);height: 1px;margin: -1px;overflow: hidden;padding: 0;position: absolute;width: 1px;}#sk-container-id-2 div.sk-estimator {font-family: monospace;background-color: #f0f8ff;border: 1px dotted black;border-radius: 0.25em;box-sizing: border-box;margin-bottom: 0.5em;}#sk-container-id-2 div.sk-estimator:hover {background-color: #d4ebff;}#sk-container-id-2 div.sk-parallel-item::after {content: \"\";width: 100%;border-bottom: 1px solid gray;flex-grow: 1;}#sk-container-id-2 div.sk-label:hover label.sk-toggleable__label {background-color: #d4ebff;}#sk-container-id-2 div.sk-serial::before {content: \"\";position: absolute;border-left: 1px solid gray;box-sizing: border-box;top: 0;bottom: 0;left: 50%;z-index: 0;}#sk-container-id-2 div.sk-serial {display: flex;flex-direction: column;align-items: center;background-color: white;padding-right: 0.2em;padding-left: 0.2em;position: relative;}#sk-container-id-2 div.sk-item {position: relative;z-index: 1;}#sk-container-id-2 div.sk-parallel {display: flex;align-items: stretch;justify-content: center;background-color: white;position: relative;}#sk-container-id-2 div.sk-item::before, #sk-container-id-2 div.sk-parallel-item::before {content: \"\";position: absolute;border-left: 1px solid gray;box-sizing: border-box;top: 0;bottom: 0;left: 50%;z-index: -1;}#sk-container-id-2 div.sk-parallel-item {display: flex;flex-direction: column;z-index: 1;position: relative;background-color: white;}#sk-container-id-2 div.sk-parallel-item:first-child::after {align-self: flex-end;width: 50%;}#sk-container-id-2 div.sk-parallel-item:last-child::after {align-self: flex-start;width: 50%;}#sk-container-id-2 div.sk-parallel-item:only-child::after {width: 0;}#sk-container-id-2 div.sk-dashed-wrapped {border: 1px dashed gray;margin: 0 0.4em 0.5em 0.4em;box-sizing: border-box;padding-bottom: 0.4em;background-color: white;}#sk-container-id-2 div.sk-label label {font-family: monospace;font-weight: bold;display: inline-block;line-height: 1.2em;}#sk-container-id-2 div.sk-label-container {text-align: center;}#sk-container-id-2 div.sk-container {/* jupyter's `normalize.less` sets `[hidden] { display: none; }` but bootstrap.min.css set `[hidden] { display: none !important; }` so we also need the `!important` here to be able to override the default hidden behavior on the sphinx rendered scikit-learn.org. See: https://github.com/scikit-learn/scikit-learn/issues/21755 */display: inline-block !important;position: relative;}#sk-container-id-2 div.sk-text-repr-fallback {display: none;}</style><div id=\"sk-container-id-2\" class=\"sk-top-container\"><div class=\"sk-text-repr-fallback\"><pre>LogisticRegression()</pre><b>In a Jupyter environment, please rerun this cell to show the HTML representation or trust the notebook. <br />On GitHub, the HTML representation is unable to render, please try loading this page with nbviewer.org.</b></div><div class=\"sk-container\" hidden><div class=\"sk-item\"><div class=\"sk-estimator sk-toggleable\"><input class=\"sk-toggleable__control sk-hidden--visually\" id=\"sk-estimator-id-2\" type=\"checkbox\" checked><label for=\"sk-estimator-id-2\" class=\"sk-toggleable__label sk-toggleable__label-arrow\">LogisticRegression</label><div class=\"sk-toggleable__content\"><pre>LogisticRegression()</pre></div></div></div></div></div>"
            ],
            "text/plain": [
              "LogisticRegression()"
            ]
          },
          "execution_count": 35,
          "metadata": {},
          "output_type": "execute_result"
        }
      ],
      "source": [
        "lr_1.fit(X_train, y_train)"
      ]
    },
    {
      "cell_type": "code",
      "execution_count": 36,
      "metadata": {
        "id": "MdFGorZsxexG"
      },
      "outputs": [],
      "source": [
        "y_preds_lr_1 = lr_1.predict(X_test)"
      ]
    },
    {
      "cell_type": "markdown",
      "metadata": {
        "id": "RVgHww8gyRjt"
      },
      "source": [
        "Utter fail"
      ]
    },
    {
      "cell_type": "code",
      "execution_count": 37,
      "metadata": {
        "colab": {
          "base_uri": "https://localhost:8080/"
        },
        "id": "oJ8siU4zxv2P",
        "outputId": "b6fd2c09-c0ee-4239-a48c-bdb2f1217b41"
      },
      "outputs": [
        {
          "data": {
            "text/plain": [
              "array([[  0, 509,   0,   2,   0,   0,   0,   0,   0,   1],\n",
              "       [  0, 939,   0,   3,   0,   0,   0,   0,   0,   5],\n",
              "       [  0, 131,   0,   1,   0,   0,   0,   0,   0,   0],\n",
              "       [  0, 406,   0,   0,   0,   0,   0,   0,   0,   0],\n",
              "       [  0, 730,   0,   0,   0,   0,   0,   0,   0,   4],\n",
              "       [  0, 130,   0,   0,   0,   0,   0,   0,   0,   2],\n",
              "       [  0, 154,   0,   1,   0,   0,   0,   0,   0,   2],\n",
              "       [  0, 189,   0,   1,   0,   0,   0,   0,   0,   0],\n",
              "       [  0, 300,   0,   2,   0,   0,   0,   0,   0,   0],\n",
              "       [  0, 177,   0,   0,   0,   0,   0,   0,   0,   1]], dtype=int64)"
            ]
          },
          "execution_count": 37,
          "metadata": {},
          "output_type": "execute_result"
        }
      ],
      "source": [
        "confusion_matrix(y_test, y_preds_lr_1)"
      ]
    },
    {
      "cell_type": "code",
      "execution_count": 38,
      "metadata": {
        "colab": {
          "base_uri": "https://localhost:8080/"
        },
        "id": "5HSO7KBBx1TM",
        "outputId": "f2dcb9b4-a0a0-4dbf-d933-c8dc0e66c310"
      },
      "outputs": [
        {
          "name": "stdout",
          "output_type": "stream",
          "text": [
            "              precision    recall  f1-score   support\n",
            "\n",
            "           0       0.00      0.00      0.00       512\n",
            "           1       0.26      0.99      0.41       947\n",
            "           2       0.00      0.00      0.00       132\n",
            "           3       0.00      0.00      0.00       406\n",
            "           4       0.00      0.00      0.00       734\n",
            "           5       0.00      0.00      0.00       132\n",
            "           6       0.00      0.00      0.00       157\n",
            "           7       0.00      0.00      0.00       190\n",
            "           8       0.00      0.00      0.00       302\n",
            "           9       0.07      0.01      0.01       178\n",
            "\n",
            "    accuracy                           0.25      3690\n",
            "   macro avg       0.03      0.10      0.04      3690\n",
            "weighted avg       0.07      0.25      0.11      3690\n",
            "\n"
          ]
        },
        {
          "name": "stderr",
          "output_type": "stream",
          "text": [
            "c:\\Users\\rutwi\\anaconda3\\lib\\site-packages\\sklearn\\metrics\\_classification.py:1344: UndefinedMetricWarning: Precision and F-score are ill-defined and being set to 0.0 in labels with no predicted samples. Use `zero_division` parameter to control this behavior.\n",
            "  _warn_prf(average, modifier, msg_start, len(result))\n",
            "c:\\Users\\rutwi\\anaconda3\\lib\\site-packages\\sklearn\\metrics\\_classification.py:1344: UndefinedMetricWarning: Precision and F-score are ill-defined and being set to 0.0 in labels with no predicted samples. Use `zero_division` parameter to control this behavior.\n",
            "  _warn_prf(average, modifier, msg_start, len(result))\n",
            "c:\\Users\\rutwi\\anaconda3\\lib\\site-packages\\sklearn\\metrics\\_classification.py:1344: UndefinedMetricWarning: Precision and F-score are ill-defined and being set to 0.0 in labels with no predicted samples. Use `zero_division` parameter to control this behavior.\n",
            "  _warn_prf(average, modifier, msg_start, len(result))\n"
          ]
        }
      ],
      "source": [
        "print(classification_report(y_test, y_preds_lr_1))"
      ]
    },
    {
      "cell_type": "markdown",
      "metadata": {
        "id": "8VJQz921ycf6"
      },
      "source": [
        "##### Now lets start with our Ensemble which will be Random Forest Classifier"
      ]
    },
    {
      "cell_type": "code",
      "execution_count": 39,
      "metadata": {
        "id": "2fYLFGn2yiqO"
      },
      "outputs": [],
      "source": [
        "from sklearn.ensemble import RandomForestClassifier"
      ]
    },
    {
      "cell_type": "code",
      "execution_count": 40,
      "metadata": {
        "id": "milTKf2Xyn_7"
      },
      "outputs": [],
      "source": [
        "rf = RandomForestClassifier(criterion='entropy', n_estimators=50)"
      ]
    },
    {
      "cell_type": "code",
      "execution_count": 41,
      "metadata": {
        "colab": {
          "base_uri": "https://localhost:8080/",
          "height": 129
        },
        "id": "xWkVbcn0y6ws",
        "outputId": "0c50cff6-1c25-4cd7-c807-cd9ccbe50ef1"
      },
      "outputs": [
        {
          "name": "stderr",
          "output_type": "stream",
          "text": [
            "<ipython-input-41-ddd226a907ae>:1: DataConversionWarning: A column-vector y was passed when a 1d array was expected. Please change the shape of y to (n_samples,), for example using ravel().\n",
            "  rf.fit(X_train_final, y_train_final)\n"
          ]
        },
        {
          "data": {
            "text/html": [
              "<style>#sk-container-id-3 {color: black;background-color: white;}#sk-container-id-3 pre{padding: 0;}#sk-container-id-3 div.sk-toggleable {background-color: white;}#sk-container-id-3 label.sk-toggleable__label {cursor: pointer;display: block;width: 100%;margin-bottom: 0;padding: 0.3em;box-sizing: border-box;text-align: center;}#sk-container-id-3 label.sk-toggleable__label-arrow:before {content: \"▸\";float: left;margin-right: 0.25em;color: #696969;}#sk-container-id-3 label.sk-toggleable__label-arrow:hover:before {color: black;}#sk-container-id-3 div.sk-estimator:hover label.sk-toggleable__label-arrow:before {color: black;}#sk-container-id-3 div.sk-toggleable__content {max-height: 0;max-width: 0;overflow: hidden;text-align: left;background-color: #f0f8ff;}#sk-container-id-3 div.sk-toggleable__content pre {margin: 0.2em;color: black;border-radius: 0.25em;background-color: #f0f8ff;}#sk-container-id-3 input.sk-toggleable__control:checked~div.sk-toggleable__content {max-height: 200px;max-width: 100%;overflow: auto;}#sk-container-id-3 input.sk-toggleable__control:checked~label.sk-toggleable__label-arrow:before {content: \"▾\";}#sk-container-id-3 div.sk-estimator input.sk-toggleable__control:checked~label.sk-toggleable__label {background-color: #d4ebff;}#sk-container-id-3 div.sk-label input.sk-toggleable__control:checked~label.sk-toggleable__label {background-color: #d4ebff;}#sk-container-id-3 input.sk-hidden--visually {border: 0;clip: rect(1px 1px 1px 1px);clip: rect(1px, 1px, 1px, 1px);height: 1px;margin: -1px;overflow: hidden;padding: 0;position: absolute;width: 1px;}#sk-container-id-3 div.sk-estimator {font-family: monospace;background-color: #f0f8ff;border: 1px dotted black;border-radius: 0.25em;box-sizing: border-box;margin-bottom: 0.5em;}#sk-container-id-3 div.sk-estimator:hover {background-color: #d4ebff;}#sk-container-id-3 div.sk-parallel-item::after {content: \"\";width: 100%;border-bottom: 1px solid gray;flex-grow: 1;}#sk-container-id-3 div.sk-label:hover label.sk-toggleable__label {background-color: #d4ebff;}#sk-container-id-3 div.sk-serial::before {content: \"\";position: absolute;border-left: 1px solid gray;box-sizing: border-box;top: 0;bottom: 0;left: 50%;z-index: 0;}#sk-container-id-3 div.sk-serial {display: flex;flex-direction: column;align-items: center;background-color: white;padding-right: 0.2em;padding-left: 0.2em;position: relative;}#sk-container-id-3 div.sk-item {position: relative;z-index: 1;}#sk-container-id-3 div.sk-parallel {display: flex;align-items: stretch;justify-content: center;background-color: white;position: relative;}#sk-container-id-3 div.sk-item::before, #sk-container-id-3 div.sk-parallel-item::before {content: \"\";position: absolute;border-left: 1px solid gray;box-sizing: border-box;top: 0;bottom: 0;left: 50%;z-index: -1;}#sk-container-id-3 div.sk-parallel-item {display: flex;flex-direction: column;z-index: 1;position: relative;background-color: white;}#sk-container-id-3 div.sk-parallel-item:first-child::after {align-self: flex-end;width: 50%;}#sk-container-id-3 div.sk-parallel-item:last-child::after {align-self: flex-start;width: 50%;}#sk-container-id-3 div.sk-parallel-item:only-child::after {width: 0;}#sk-container-id-3 div.sk-dashed-wrapped {border: 1px dashed gray;margin: 0 0.4em 0.5em 0.4em;box-sizing: border-box;padding-bottom: 0.4em;background-color: white;}#sk-container-id-3 div.sk-label label {font-family: monospace;font-weight: bold;display: inline-block;line-height: 1.2em;}#sk-container-id-3 div.sk-label-container {text-align: center;}#sk-container-id-3 div.sk-container {/* jupyter's `normalize.less` sets `[hidden] { display: none; }` but bootstrap.min.css set `[hidden] { display: none !important; }` so we also need the `!important` here to be able to override the default hidden behavior on the sphinx rendered scikit-learn.org. See: https://github.com/scikit-learn/scikit-learn/issues/21755 */display: inline-block !important;position: relative;}#sk-container-id-3 div.sk-text-repr-fallback {display: none;}</style><div id=\"sk-container-id-3\" class=\"sk-top-container\"><div class=\"sk-text-repr-fallback\"><pre>RandomForestClassifier(criterion=&#x27;entropy&#x27;, n_estimators=50)</pre><b>In a Jupyter environment, please rerun this cell to show the HTML representation or trust the notebook. <br />On GitHub, the HTML representation is unable to render, please try loading this page with nbviewer.org.</b></div><div class=\"sk-container\" hidden><div class=\"sk-item\"><div class=\"sk-estimator sk-toggleable\"><input class=\"sk-toggleable__control sk-hidden--visually\" id=\"sk-estimator-id-3\" type=\"checkbox\" checked><label for=\"sk-estimator-id-3\" class=\"sk-toggleable__label sk-toggleable__label-arrow\">RandomForestClassifier</label><div class=\"sk-toggleable__content\"><pre>RandomForestClassifier(criterion=&#x27;entropy&#x27;, n_estimators=50)</pre></div></div></div></div></div>"
            ],
            "text/plain": [
              "RandomForestClassifier(criterion='entropy', n_estimators=50)"
            ]
          },
          "execution_count": 41,
          "metadata": {},
          "output_type": "execute_result"
        }
      ],
      "source": [
        "rf.fit(X_train_final, y_train_final)"
      ]
    },
    {
      "cell_type": "code",
      "execution_count": 42,
      "metadata": {
        "id": "b8yXmqdVzDEH"
      },
      "outputs": [],
      "source": [
        "y_preds_rf = rf.predict(X_test_final)"
      ]
    },
    {
      "cell_type": "code",
      "execution_count": 43,
      "metadata": {
        "colab": {
          "base_uri": "https://localhost:8080/"
        },
        "id": "cGoVw0NNzDBf",
        "outputId": "cb852cb6-9b02-4fa7-e2f9-3bc9aef9a6a7"
      },
      "outputs": [
        {
          "data": {
            "text/plain": [
              "array([[498,  14,   0,   0,   0,   0,   0,   0,   0,   0],\n",
              "       [  7, 939,   1,   0,   0,   0,   0,   0,   0,   0],\n",
              "       [  5,  19, 107,   0,   1,   0,   0,   0,   0,   0],\n",
              "       [  0,   0,   0, 406,   0,   0,   0,   0,   0,   0],\n",
              "       [  0,   4,   2,   0, 728,   0,   0,   0,   0,   0],\n",
              "       [  0,   1,   4,   0,   7, 115,   2,   1,   1,   1],\n",
              "       [  0,   0,   0,   0,   0,   1, 151,   1,   4,   0],\n",
              "       [  0,   0,   0,   0,   0,   0,   1, 180,   1,   8],\n",
              "       [  0,   0,   0,   0,   0,   0,   0,   1, 298,   3],\n",
              "       [  0,   0,   0,   0,   1,   0,   0,   1,   2, 174]], dtype=int64)"
            ]
          },
          "execution_count": 43,
          "metadata": {},
          "output_type": "execute_result"
        }
      ],
      "source": [
        "confusion_matrix(y_test, y_preds_rf)"
      ]
    },
    {
      "cell_type": "code",
      "execution_count": 44,
      "metadata": {
        "colab": {
          "base_uri": "https://localhost:8080/"
        },
        "id": "LVHQg_4CzC-7",
        "outputId": "e525eedf-4793-4957-81fc-16a03f4e3fe1"
      },
      "outputs": [
        {
          "name": "stdout",
          "output_type": "stream",
          "text": [
            "              precision    recall  f1-score   support\n",
            "\n",
            "           0       0.98      0.97      0.97       512\n",
            "           1       0.96      0.99      0.98       947\n",
            "           2       0.94      0.81      0.87       132\n",
            "           3       1.00      1.00      1.00       406\n",
            "           4       0.99      0.99      0.99       734\n",
            "           5       0.99      0.87      0.93       132\n",
            "           6       0.98      0.96      0.97       157\n",
            "           7       0.98      0.95      0.96       190\n",
            "           8       0.97      0.99      0.98       302\n",
            "           9       0.94      0.98      0.96       178\n",
            "\n",
            "    accuracy                           0.97      3690\n",
            "   macro avg       0.97      0.95      0.96      3690\n",
            "weighted avg       0.97      0.97      0.97      3690\n",
            "\n"
          ]
        }
      ],
      "source": [
        "print(classification_report(y_test, y_preds_rf))"
      ]
    },
    {
      "cell_type": "code",
      "execution_count": 45,
      "metadata": {
        "id": "6-4lH4-MzC8U"
      },
      "outputs": [],
      "source": [
        "from sklearn.ensemble import AdaBoostClassifier"
      ]
    },
    {
      "cell_type": "code",
      "execution_count": 46,
      "metadata": {
        "id": "3nPVThkBzC5q"
      },
      "outputs": [],
      "source": [
        "ada = AdaBoostClassifier()"
      ]
    },
    {
      "cell_type": "code",
      "execution_count": 47,
      "metadata": {
        "colab": {
          "base_uri": "https://localhost:8080/",
          "height": 129
        },
        "id": "jCAWH_rH0Kxo",
        "outputId": "ff1c0414-1972-4ccf-ba93-f11bddf32727"
      },
      "outputs": [
        {
          "name": "stderr",
          "output_type": "stream",
          "text": [
            "c:\\Users\\rutwi\\anaconda3\\lib\\site-packages\\sklearn\\utils\\validation.py:1143: DataConversionWarning: A column-vector y was passed when a 1d array was expected. Please change the shape of y to (n_samples, ), for example using ravel().\n",
            "  y = column_or_1d(y, warn=True)\n"
          ]
        },
        {
          "data": {
            "text/html": [
              "<style>#sk-container-id-4 {color: black;background-color: white;}#sk-container-id-4 pre{padding: 0;}#sk-container-id-4 div.sk-toggleable {background-color: white;}#sk-container-id-4 label.sk-toggleable__label {cursor: pointer;display: block;width: 100%;margin-bottom: 0;padding: 0.3em;box-sizing: border-box;text-align: center;}#sk-container-id-4 label.sk-toggleable__label-arrow:before {content: \"▸\";float: left;margin-right: 0.25em;color: #696969;}#sk-container-id-4 label.sk-toggleable__label-arrow:hover:before {color: black;}#sk-container-id-4 div.sk-estimator:hover label.sk-toggleable__label-arrow:before {color: black;}#sk-container-id-4 div.sk-toggleable__content {max-height: 0;max-width: 0;overflow: hidden;text-align: left;background-color: #f0f8ff;}#sk-container-id-4 div.sk-toggleable__content pre {margin: 0.2em;color: black;border-radius: 0.25em;background-color: #f0f8ff;}#sk-container-id-4 input.sk-toggleable__control:checked~div.sk-toggleable__content {max-height: 200px;max-width: 100%;overflow: auto;}#sk-container-id-4 input.sk-toggleable__control:checked~label.sk-toggleable__label-arrow:before {content: \"▾\";}#sk-container-id-4 div.sk-estimator input.sk-toggleable__control:checked~label.sk-toggleable__label {background-color: #d4ebff;}#sk-container-id-4 div.sk-label input.sk-toggleable__control:checked~label.sk-toggleable__label {background-color: #d4ebff;}#sk-container-id-4 input.sk-hidden--visually {border: 0;clip: rect(1px 1px 1px 1px);clip: rect(1px, 1px, 1px, 1px);height: 1px;margin: -1px;overflow: hidden;padding: 0;position: absolute;width: 1px;}#sk-container-id-4 div.sk-estimator {font-family: monospace;background-color: #f0f8ff;border: 1px dotted black;border-radius: 0.25em;box-sizing: border-box;margin-bottom: 0.5em;}#sk-container-id-4 div.sk-estimator:hover {background-color: #d4ebff;}#sk-container-id-4 div.sk-parallel-item::after {content: \"\";width: 100%;border-bottom: 1px solid gray;flex-grow: 1;}#sk-container-id-4 div.sk-label:hover label.sk-toggleable__label {background-color: #d4ebff;}#sk-container-id-4 div.sk-serial::before {content: \"\";position: absolute;border-left: 1px solid gray;box-sizing: border-box;top: 0;bottom: 0;left: 50%;z-index: 0;}#sk-container-id-4 div.sk-serial {display: flex;flex-direction: column;align-items: center;background-color: white;padding-right: 0.2em;padding-left: 0.2em;position: relative;}#sk-container-id-4 div.sk-item {position: relative;z-index: 1;}#sk-container-id-4 div.sk-parallel {display: flex;align-items: stretch;justify-content: center;background-color: white;position: relative;}#sk-container-id-4 div.sk-item::before, #sk-container-id-4 div.sk-parallel-item::before {content: \"\";position: absolute;border-left: 1px solid gray;box-sizing: border-box;top: 0;bottom: 0;left: 50%;z-index: -1;}#sk-container-id-4 div.sk-parallel-item {display: flex;flex-direction: column;z-index: 1;position: relative;background-color: white;}#sk-container-id-4 div.sk-parallel-item:first-child::after {align-self: flex-end;width: 50%;}#sk-container-id-4 div.sk-parallel-item:last-child::after {align-self: flex-start;width: 50%;}#sk-container-id-4 div.sk-parallel-item:only-child::after {width: 0;}#sk-container-id-4 div.sk-dashed-wrapped {border: 1px dashed gray;margin: 0 0.4em 0.5em 0.4em;box-sizing: border-box;padding-bottom: 0.4em;background-color: white;}#sk-container-id-4 div.sk-label label {font-family: monospace;font-weight: bold;display: inline-block;line-height: 1.2em;}#sk-container-id-4 div.sk-label-container {text-align: center;}#sk-container-id-4 div.sk-container {/* jupyter's `normalize.less` sets `[hidden] { display: none; }` but bootstrap.min.css set `[hidden] { display: none !important; }` so we also need the `!important` here to be able to override the default hidden behavior on the sphinx rendered scikit-learn.org. See: https://github.com/scikit-learn/scikit-learn/issues/21755 */display: inline-block !important;position: relative;}#sk-container-id-4 div.sk-text-repr-fallback {display: none;}</style><div id=\"sk-container-id-4\" class=\"sk-top-container\"><div class=\"sk-text-repr-fallback\"><pre>AdaBoostClassifier()</pre><b>In a Jupyter environment, please rerun this cell to show the HTML representation or trust the notebook. <br />On GitHub, the HTML representation is unable to render, please try loading this page with nbviewer.org.</b></div><div class=\"sk-container\" hidden><div class=\"sk-item\"><div class=\"sk-estimator sk-toggleable\"><input class=\"sk-toggleable__control sk-hidden--visually\" id=\"sk-estimator-id-4\" type=\"checkbox\" checked><label for=\"sk-estimator-id-4\" class=\"sk-toggleable__label sk-toggleable__label-arrow\">AdaBoostClassifier</label><div class=\"sk-toggleable__content\"><pre>AdaBoostClassifier()</pre></div></div></div></div></div>"
            ],
            "text/plain": [
              "AdaBoostClassifier()"
            ]
          },
          "execution_count": 47,
          "metadata": {},
          "output_type": "execute_result"
        }
      ],
      "source": [
        "ada.fit(X_train_final, y_train_final)"
      ]
    },
    {
      "cell_type": "code",
      "execution_count": 48,
      "metadata": {
        "id": "VZTnj1Og0Pm2"
      },
      "outputs": [],
      "source": [
        "y_preds_ada = ada.predict(X_test_final)"
      ]
    },
    {
      "cell_type": "code",
      "execution_count": 49,
      "metadata": {
        "colab": {
          "base_uri": "https://localhost:8080/"
        },
        "id": "L4AVnRpG0WrT",
        "outputId": "1c480c57-028d-4e28-ea6c-21f9955ee3c6"
      },
      "outputs": [
        {
          "data": {
            "text/plain": [
              "array([[  0,   0, 512,   0,   0,   0,   0,   0,   0,   0],\n",
              "       [  0,   0, 947,   0,   0,   0,   0,   0,   0,   0],\n",
              "       [  0,   0, 132,   0,   0,   0,   0,   0,   0,   0],\n",
              "       [  0,   0,   0, 406,   0,   0,   0,   0,   0,   0],\n",
              "       [  0,   0, 734,   0,   0,   0,   0,   0,   0,   0],\n",
              "       [  0,   0, 132,   0,   0,   0,   0,   0,   0,   0],\n",
              "       [  0,   0, 157,   0,   0,   0,   0,   0,   0,   0],\n",
              "       [  0,   0, 190,   0,   0,   0,   0,   0,   0,   0],\n",
              "       [  0,   0, 302,   0,   0,   0,   0,   0,   0,   0],\n",
              "       [  0,   0,   0,   0,   0,   0,   0,   0,   0, 178]], dtype=int64)"
            ]
          },
          "execution_count": 49,
          "metadata": {},
          "output_type": "execute_result"
        }
      ],
      "source": [
        "confusion_matrix(y_test, y_preds_ada)"
      ]
    },
    {
      "cell_type": "code",
      "execution_count": 50,
      "metadata": {
        "colab": {
          "base_uri": "https://localhost:8080/"
        },
        "id": "sqatlpbL0Z3D",
        "outputId": "e4d8aeec-56d0-4e35-dcce-fb645fe21777"
      },
      "outputs": [
        {
          "name": "stdout",
          "output_type": "stream",
          "text": [
            "              precision    recall  f1-score   support\n",
            "\n",
            "           0       0.00      0.00      0.00       512\n",
            "           1       0.00      0.00      0.00       947\n",
            "           2       0.04      1.00      0.08       132\n",
            "           3       1.00      1.00      1.00       406\n",
            "           4       0.00      0.00      0.00       734\n",
            "           5       0.00      0.00      0.00       132\n",
            "           6       0.00      0.00      0.00       157\n",
            "           7       0.00      0.00      0.00       190\n",
            "           8       0.00      0.00      0.00       302\n",
            "           9       1.00      1.00      1.00       178\n",
            "\n",
            "    accuracy                           0.19      3690\n",
            "   macro avg       0.20      0.30      0.21      3690\n",
            "weighted avg       0.16      0.19      0.16      3690\n",
            "\n"
          ]
        },
        {
          "name": "stderr",
          "output_type": "stream",
          "text": [
            "c:\\Users\\rutwi\\anaconda3\\lib\\site-packages\\sklearn\\metrics\\_classification.py:1344: UndefinedMetricWarning: Precision and F-score are ill-defined and being set to 0.0 in labels with no predicted samples. Use `zero_division` parameter to control this behavior.\n",
            "  _warn_prf(average, modifier, msg_start, len(result))\n",
            "c:\\Users\\rutwi\\anaconda3\\lib\\site-packages\\sklearn\\metrics\\_classification.py:1344: UndefinedMetricWarning: Precision and F-score are ill-defined and being set to 0.0 in labels with no predicted samples. Use `zero_division` parameter to control this behavior.\n",
            "  _warn_prf(average, modifier, msg_start, len(result))\n",
            "c:\\Users\\rutwi\\anaconda3\\lib\\site-packages\\sklearn\\metrics\\_classification.py:1344: UndefinedMetricWarning: Precision and F-score are ill-defined and being set to 0.0 in labels with no predicted samples. Use `zero_division` parameter to control this behavior.\n",
            "  _warn_prf(average, modifier, msg_start, len(result))\n"
          ]
        }
      ],
      "source": [
        "print(classification_report(y_test, y_preds_ada))"
      ]
    },
    {
      "cell_type": "markdown",
      "metadata": {
        "id": "ak1eWTom0rKx"
      },
      "source": [
        "Now since we had not passed any value for our estimator we will pass now"
      ]
    },
    {
      "cell_type": "code",
      "execution_count": 51,
      "metadata": {
        "id": "-m53CIVj1fJT"
      },
      "outputs": [],
      "source": [
        "from sklearn.svm import SVC\n",
        "from sklearn.tree import DecisionTreeClassifier"
      ]
    },
    {
      "cell_type": "code",
      "execution_count": 72,
      "metadata": {
        "id": "Y5lh3y7x02Bz"
      },
      "outputs": [],
      "source": [
        "#weak_learner = LogisticRegression()\n",
        "weak_learner = DecisionTreeClassifier(criterion= 'entropy')\n",
        "#weak_learner = SVC(probability=True, kernel = 'linear')\n"
      ]
    },
    {
      "cell_type": "code",
      "execution_count": 73,
      "metadata": {
        "id": "cbPUXbMk0wMw"
      },
      "outputs": [],
      "source": [
        "ada_lr = AdaBoostClassifier(estimator=weak_learner, n_estimators=40)"
      ]
    },
    {
      "cell_type": "code",
      "execution_count": 74,
      "metadata": {
        "id": "sDepkkYT08iG"
      },
      "outputs": [
        {
          "name": "stderr",
          "output_type": "stream",
          "text": [
            "c:\\Users\\rutwi\\anaconda3\\lib\\site-packages\\sklearn\\utils\\validation.py:1143: DataConversionWarning: A column-vector y was passed when a 1d array was expected. Please change the shape of y to (n_samples, ), for example using ravel().\n",
            "  y = column_or_1d(y, warn=True)\n"
          ]
        },
        {
          "data": {
            "text/html": [
              "<style>#sk-container-id-8 {color: black;background-color: white;}#sk-container-id-8 pre{padding: 0;}#sk-container-id-8 div.sk-toggleable {background-color: white;}#sk-container-id-8 label.sk-toggleable__label {cursor: pointer;display: block;width: 100%;margin-bottom: 0;padding: 0.3em;box-sizing: border-box;text-align: center;}#sk-container-id-8 label.sk-toggleable__label-arrow:before {content: \"▸\";float: left;margin-right: 0.25em;color: #696969;}#sk-container-id-8 label.sk-toggleable__label-arrow:hover:before {color: black;}#sk-container-id-8 div.sk-estimator:hover label.sk-toggleable__label-arrow:before {color: black;}#sk-container-id-8 div.sk-toggleable__content {max-height: 0;max-width: 0;overflow: hidden;text-align: left;background-color: #f0f8ff;}#sk-container-id-8 div.sk-toggleable__content pre {margin: 0.2em;color: black;border-radius: 0.25em;background-color: #f0f8ff;}#sk-container-id-8 input.sk-toggleable__control:checked~div.sk-toggleable__content {max-height: 200px;max-width: 100%;overflow: auto;}#sk-container-id-8 input.sk-toggleable__control:checked~label.sk-toggleable__label-arrow:before {content: \"▾\";}#sk-container-id-8 div.sk-estimator input.sk-toggleable__control:checked~label.sk-toggleable__label {background-color: #d4ebff;}#sk-container-id-8 div.sk-label input.sk-toggleable__control:checked~label.sk-toggleable__label {background-color: #d4ebff;}#sk-container-id-8 input.sk-hidden--visually {border: 0;clip: rect(1px 1px 1px 1px);clip: rect(1px, 1px, 1px, 1px);height: 1px;margin: -1px;overflow: hidden;padding: 0;position: absolute;width: 1px;}#sk-container-id-8 div.sk-estimator {font-family: monospace;background-color: #f0f8ff;border: 1px dotted black;border-radius: 0.25em;box-sizing: border-box;margin-bottom: 0.5em;}#sk-container-id-8 div.sk-estimator:hover {background-color: #d4ebff;}#sk-container-id-8 div.sk-parallel-item::after {content: \"\";width: 100%;border-bottom: 1px solid gray;flex-grow: 1;}#sk-container-id-8 div.sk-label:hover label.sk-toggleable__label {background-color: #d4ebff;}#sk-container-id-8 div.sk-serial::before {content: \"\";position: absolute;border-left: 1px solid gray;box-sizing: border-box;top: 0;bottom: 0;left: 50%;z-index: 0;}#sk-container-id-8 div.sk-serial {display: flex;flex-direction: column;align-items: center;background-color: white;padding-right: 0.2em;padding-left: 0.2em;position: relative;}#sk-container-id-8 div.sk-item {position: relative;z-index: 1;}#sk-container-id-8 div.sk-parallel {display: flex;align-items: stretch;justify-content: center;background-color: white;position: relative;}#sk-container-id-8 div.sk-item::before, #sk-container-id-8 div.sk-parallel-item::before {content: \"\";position: absolute;border-left: 1px solid gray;box-sizing: border-box;top: 0;bottom: 0;left: 50%;z-index: -1;}#sk-container-id-8 div.sk-parallel-item {display: flex;flex-direction: column;z-index: 1;position: relative;background-color: white;}#sk-container-id-8 div.sk-parallel-item:first-child::after {align-self: flex-end;width: 50%;}#sk-container-id-8 div.sk-parallel-item:last-child::after {align-self: flex-start;width: 50%;}#sk-container-id-8 div.sk-parallel-item:only-child::after {width: 0;}#sk-container-id-8 div.sk-dashed-wrapped {border: 1px dashed gray;margin: 0 0.4em 0.5em 0.4em;box-sizing: border-box;padding-bottom: 0.4em;background-color: white;}#sk-container-id-8 div.sk-label label {font-family: monospace;font-weight: bold;display: inline-block;line-height: 1.2em;}#sk-container-id-8 div.sk-label-container {text-align: center;}#sk-container-id-8 div.sk-container {/* jupyter's `normalize.less` sets `[hidden] { display: none; }` but bootstrap.min.css set `[hidden] { display: none !important; }` so we also need the `!important` here to be able to override the default hidden behavior on the sphinx rendered scikit-learn.org. See: https://github.com/scikit-learn/scikit-learn/issues/21755 */display: inline-block !important;position: relative;}#sk-container-id-8 div.sk-text-repr-fallback {display: none;}</style><div id=\"sk-container-id-8\" class=\"sk-top-container\"><div class=\"sk-text-repr-fallback\"><pre>AdaBoostClassifier(estimator=DecisionTreeClassifier(criterion=&#x27;entropy&#x27;),\n",
              "                   n_estimators=40)</pre><b>In a Jupyter environment, please rerun this cell to show the HTML representation or trust the notebook. <br />On GitHub, the HTML representation is unable to render, please try loading this page with nbviewer.org.</b></div><div class=\"sk-container\" hidden><div class=\"sk-item sk-dashed-wrapped\"><div class=\"sk-label-container\"><div class=\"sk-label sk-toggleable\"><input class=\"sk-toggleable__control sk-hidden--visually\" id=\"sk-estimator-id-14\" type=\"checkbox\" ><label for=\"sk-estimator-id-14\" class=\"sk-toggleable__label sk-toggleable__label-arrow\">AdaBoostClassifier</label><div class=\"sk-toggleable__content\"><pre>AdaBoostClassifier(estimator=DecisionTreeClassifier(criterion=&#x27;entropy&#x27;),\n",
              "                   n_estimators=40)</pre></div></div></div><div class=\"sk-parallel\"><div class=\"sk-parallel-item\"><div class=\"sk-item\"><div class=\"sk-label-container\"><div class=\"sk-label sk-toggleable\"><input class=\"sk-toggleable__control sk-hidden--visually\" id=\"sk-estimator-id-15\" type=\"checkbox\" ><label for=\"sk-estimator-id-15\" class=\"sk-toggleable__label sk-toggleable__label-arrow\">estimator: DecisionTreeClassifier</label><div class=\"sk-toggleable__content\"><pre>DecisionTreeClassifier(criterion=&#x27;entropy&#x27;)</pre></div></div></div><div class=\"sk-serial\"><div class=\"sk-item\"><div class=\"sk-estimator sk-toggleable\"><input class=\"sk-toggleable__control sk-hidden--visually\" id=\"sk-estimator-id-16\" type=\"checkbox\" ><label for=\"sk-estimator-id-16\" class=\"sk-toggleable__label sk-toggleable__label-arrow\">DecisionTreeClassifier</label><div class=\"sk-toggleable__content\"><pre>DecisionTreeClassifier(criterion=&#x27;entropy&#x27;)</pre></div></div></div></div></div></div></div></div></div></div>"
            ],
            "text/plain": [
              "AdaBoostClassifier(estimator=DecisionTreeClassifier(criterion='entropy'),\n",
              "                   n_estimators=40)"
            ]
          },
          "execution_count": 74,
          "metadata": {},
          "output_type": "execute_result"
        }
      ],
      "source": [
        "ada_lr.fit(X_train, y_train)"
      ]
    },
    {
      "cell_type": "code",
      "execution_count": 75,
      "metadata": {
        "colab": {
          "base_uri": "https://localhost:8080/"
        },
        "id": "jB_X-UHi1K5V",
        "outputId": "a040c773-cbd2-40c2-bfab-ecc2bd05942d"
      },
      "outputs": [],
      "source": [
        "y_reds_ada_lr = ada_lr.predict(X_test)"
      ]
    },
    {
      "cell_type": "code",
      "execution_count": 76,
      "metadata": {
        "colab": {
          "base_uri": "https://localhost:8080/"
        },
        "id": "MsXC8cJy1K2m",
        "outputId": "8ad5d232-1975-46a0-d624-8d71b3d81806"
      },
      "outputs": [
        {
          "data": {
            "text/plain": [
              "array([[512,   0,   0,   0,   0,   0,   0,   0,   0,   0],\n",
              "       [  0, 947,   0,   0,   0,   0,   0,   0,   0,   0],\n",
              "       [  0,   0, 132,   0,   0,   0,   0,   0,   0,   0],\n",
              "       [  0,   0,   0, 406,   0,   0,   0,   0,   0,   0],\n",
              "       [  0,   0,   0,   0, 734,   0,   0,   0,   0,   0],\n",
              "       [  0,   0,   0,   0,   0, 132,   0,   0,   0,   0],\n",
              "       [  0,   0,   0,   0,   0,   0, 157,   0,   0,   0],\n",
              "       [  0,   0,   0,   0,   0,   0,   0, 190,   0,   0],\n",
              "       [  0,   0,   0,   0,   0,   0,   0,   0, 302,   0],\n",
              "       [  0,   0,   0,   0,   0,   0,   0,   0,   0, 178]], dtype=int64)"
            ]
          },
          "execution_count": 76,
          "metadata": {},
          "output_type": "execute_result"
        }
      ],
      "source": [
        "confusion_matrix(y_test, y_reds_ada_lr)"
      ]
    },
    {
      "cell_type": "code",
      "execution_count": 77,
      "metadata": {
        "colab": {
          "base_uri": "https://localhost:8080/"
        },
        "id": "R4NLXWa21Kz9",
        "outputId": "00a065dc-ed1b-42ec-a266-24eb9dacbacf"
      },
      "outputs": [
        {
          "name": "stdout",
          "output_type": "stream",
          "text": [
            "              precision    recall  f1-score   support\n",
            "\n",
            "           0       1.00      1.00      1.00       512\n",
            "           1       1.00      1.00      1.00       947\n",
            "           2       1.00      1.00      1.00       132\n",
            "           3       1.00      1.00      1.00       406\n",
            "           4       1.00      1.00      1.00       734\n",
            "           5       1.00      1.00      1.00       132\n",
            "           6       1.00      1.00      1.00       157\n",
            "           7       1.00      1.00      1.00       190\n",
            "           8       1.00      1.00      1.00       302\n",
            "           9       1.00      1.00      1.00       178\n",
            "\n",
            "    accuracy                           1.00      3690\n",
            "   macro avg       1.00      1.00      1.00      3690\n",
            "weighted avg       1.00      1.00      1.00      3690\n",
            "\n"
          ]
        }
      ],
      "source": [
        "print(classification_report(y_test, y_reds_ada_lr))"
      ]
    }
  ],
  "metadata": {
    "colab": {
      "provenance": []
    },
    "kernelspec": {
      "display_name": "Python 3",
      "name": "python3"
    },
    "language_info": {
      "codemirror_mode": {
        "name": "ipython",
        "version": 3
      },
      "file_extension": ".py",
      "mimetype": "text/x-python",
      "name": "python",
      "nbconvert_exporter": "python",
      "pygments_lexer": "ipython3",
      "version": "3.8.8"
    }
  },
  "nbformat": 4,
  "nbformat_minor": 0
}
